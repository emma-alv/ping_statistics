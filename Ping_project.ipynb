{
  "nbformat": 4,
  "nbformat_minor": 0,
  "metadata": {
    "colab": {
      "name": "Ping_project.ipynb",
      "version": "0.3.2",
      "provenance": [],
      "include_colab_link": true
    },
    "kernelspec": {
      "name": "python3",
      "display_name": "Python 3"
    }
  },
  "cells": [
    {
      "cell_type": "markdown",
      "metadata": {
        "id": "view-in-github",
        "colab_type": "text"
      },
      "source": [
        "<a href=\"https://colab.research.google.com/github/emma-alv/ping_statistics/blob/master/Ping_project.ipynb\" target=\"_parent\"><img src=\"https://colab.research.google.com/assets/colab-badge.svg\" alt=\"Open In Colab\"/></a>"
      ]
    },
    {
      "metadata": {
        "id": "zwTP8RPalcTa",
        "colab_type": "code",
        "outputId": "81d5a5e9-d8f8-4b9e-b2f7-0cf49a341f0e",
        "colab": {
          "base_uri": "https://localhost:8080/",
          "height": 119
        }
      },
      "cell_type": "code",
      "source": [
        "!git clone https://github.com/emma-alv/ping_statistics"
      ],
      "execution_count": 2,
      "outputs": [
        {
          "output_type": "stream",
          "text": [
            "Cloning into 'ping_statistics'...\n",
            "remote: Enumerating objects: 36, done.\u001b[K\n",
            "remote: Counting objects: 100% (36/36), done.\u001b[K\n",
            "remote: Compressing objects: 100% (23/23), done.\u001b[K\n",
            "remote: Total 36 (delta 12), reused 30 (delta 9), pack-reused 0\u001b[K\n",
            "Unpacking objects: 100% (36/36), done.\n"
          ],
          "name": "stdout"
        }
      ]
    },
    {
      "metadata": {
        "id": "_Rqx-wmhlo1o",
        "colab_type": "code",
        "outputId": "adfc56ca-b4ec-48e9-e96c-55d60411e196",
        "colab": {
          "base_uri": "https://localhost:8080/",
          "height": 34
        }
      },
      "cell_type": "code",
      "source": [
        "%cd ping_statistics/"
      ],
      "execution_count": 3,
      "outputs": [
        {
          "output_type": "stream",
          "text": [
            "/content/ping_statistics\n"
          ],
          "name": "stdout"
        }
      ]
    },
    {
      "metadata": {
        "id": "cRRhtiOTm5Vo",
        "colab_type": "code",
        "colab": {}
      },
      "cell_type": "code",
      "source": [
        "!git config --global user.name 'Emmanuel Rodriguez'\n",
        "!git config --global user.email 'ing.erodrigueza@gmail.com'"
      ],
      "execution_count": 0,
      "outputs": []
    },
    {
      "metadata": {
        "id": "Ry4bhfyelwl2",
        "colab_type": "code",
        "outputId": "18034228-196f-49e6-e8f4-9ba3fc936d7c",
        "colab": {
          "base_uri": "https://localhost:8080/",
          "height": 408
        }
      },
      "cell_type": "code",
      "source": [
        "!git pull origin version_2"
      ],
      "execution_count": 5,
      "outputs": [
        {
          "output_type": "stream",
          "text": [
            "From https://github.com/emma-alv/ping_statistics\n",
            " * branch            version_2  -> FETCH_HEAD\n",
            "Updating 93c1d87..b7c5df1\n",
            "Fast-forward\n",
            " .gitignore         |   6 \u001b[32m++\u001b[m\u001b[31m-\u001b[m\n",
            " google_ie          | 105 \u001b[32m+++++++++++++++++++++++++++++++++++++++++++++++++++++\u001b[m\n",
            " google_in          | 105 \u001b[32m+++++++++++++++++++++++++++++++++++++++++++++++++++++\u001b[m\n",
            " google_mx          | 105 \u001b[32m+++++++++++++++++++++++++++++++++++++++++++++++++++++\u001b[m\n",
            " google_uk          | 105 \u001b[32m+++++++++++++++++++++++++++++++++++++++++++++++++++++\u001b[m\n",
            " google_usa         | 105 \u001b[32m+++++++++++++++++++++++++++++++++++++++++++++++++++++\u001b[m\n",
            " ms.awk             |   9 \u001b[31m-----\u001b[m\n",
            " ping_statistics.py |  58 \u001b[32m+++++++++++++++++++++++++++++\u001b[m\n",
            " ping_stats.sh      |  33 \u001b[32m++++\u001b[m\u001b[31m-------------\u001b[m\n",
            " time_ping.awk      |  36 \u001b[31m------------------\u001b[m\n",
            " 10 files changed, 595 insertions(+), 72 deletions(-)\n",
            " create mode 100644 google_ie\n",
            " create mode 100644 google_in\n",
            " create mode 100644 google_mx\n",
            " create mode 100644 google_uk\n",
            " create mode 100644 google_usa\n",
            " delete mode 100644 ms.awk\n",
            " create mode 100644 ping_statistics.py\n",
            " delete mode 100644 time_ping.awk\n"
          ],
          "name": "stdout"
        }
      ]
    },
    {
      "metadata": {
        "id": "uAds41eZnHhE",
        "colab_type": "code",
        "colab": {}
      },
      "cell_type": "code",
      "source": [
        "import os\n",
        "import pandas as pd\n",
        "import matplotlib.pyplot as plt"
      ],
      "execution_count": 0,
      "outputs": []
    },
    {
      "metadata": {
        "id": "RW85Uu089a7I",
        "colab_type": "code",
        "outputId": "e314a7c5-800f-4a98-d26f-6224a851228e",
        "colab": {
          "base_uri": "https://localhost:8080/",
          "height": 34
        }
      },
      "cell_type": "code",
      "source": [
        "listFiles = [i for i in os.listdir('.') if \"google\" in i]\n",
        "listFiles"
      ],
      "execution_count": 7,
      "outputs": [
        {
          "output_type": "execute_result",
          "data": {
            "text/plain": [
              "['google_in', 'google_mx', 'google_usa', 'google_ie', 'google_uk']"
            ]
          },
          "metadata": {
            "tags": []
          },
          "execution_count": 7
        }
      ]
    },
    {
      "metadata": {
        "id": "DN2nWBkm9luK",
        "colab_type": "code",
        "outputId": "de456434-7c9b-408e-db0f-7bd5794ace8a",
        "colab": {
          "base_uri": "https://localhost:8080/",
          "height": 122
        }
      },
      "cell_type": "code",
      "source": [
        "for i in listFiles:\n",
        "    with open(i) as data:\n",
        "        vars()[\"uc_\"+i] = data.readlines()\n",
        "        print(vars()[\"uc_\"+i])"
      ],
      "execution_count": 10,
      "outputs": [
        {
          "output_type": "stream",
          "text": [
            "['PING google.in (172.217.18.164): 56 data bytes\\n', '64 bytes from 172.217.18.164: icmp_seq=0 ttl=47 time=45.052 ms\\n', '64 bytes from 172.217.18.164: icmp_seq=1 ttl=47 time=33.585 ms\\n', '64 bytes from 172.217.18.164: icmp_seq=2 ttl=47 time=39.092 ms\\n', '64 bytes from 172.217.18.164: icmp_seq=3 ttl=47 time=35.379 ms\\n', '64 bytes from 172.217.18.164: icmp_seq=4 ttl=47 time=35.771 ms\\n', '64 bytes from 172.217.18.164: icmp_seq=5 ttl=47 time=51.089 ms\\n', '64 bytes from 172.217.18.164: icmp_seq=6 ttl=47 time=72.135 ms\\n', '64 bytes from 172.217.18.164: icmp_seq=7 ttl=47 time=37.525 ms\\n', '64 bytes from 172.217.18.164: icmp_seq=8 ttl=47 time=38.065 ms\\n', '64 bytes from 172.217.18.164: icmp_seq=9 ttl=47 time=88.791 ms\\n', '64 bytes from 172.217.18.164: icmp_seq=10 ttl=47 time=49.974 ms\\n', '64 bytes from 172.217.18.164: icmp_seq=11 ttl=47 time=40.156 ms\\n', '64 bytes from 172.217.18.164: icmp_seq=12 ttl=47 time=35.104 ms\\n', '64 bytes from 172.217.18.164: icmp_seq=13 ttl=47 time=40.749 ms\\n', '64 bytes from 172.217.18.164: icmp_seq=14 ttl=47 time=39.144 ms\\n', '64 bytes from 172.217.18.164: icmp_seq=15 ttl=47 time=45.839 ms\\n', '64 bytes from 172.217.18.164: icmp_seq=16 ttl=47 time=33.987 ms\\n', '64 bytes from 172.217.18.164: icmp_seq=17 ttl=47 time=43.158 ms\\n', '64 bytes from 172.217.18.164: icmp_seq=18 ttl=47 time=36.069 ms\\n', '64 bytes from 172.217.18.164: icmp_seq=19 ttl=47 time=40.804 ms\\n', '64 bytes from 172.217.18.164: icmp_seq=20 ttl=47 time=71.970 ms\\n', '64 bytes from 172.217.18.164: icmp_seq=21 ttl=47 time=35.099 ms\\n', '64 bytes from 172.217.18.164: icmp_seq=22 ttl=47 time=38.436 ms\\n', '64 bytes from 172.217.18.164: icmp_seq=23 ttl=47 time=40.059 ms\\n', '64 bytes from 172.217.18.164: icmp_seq=24 ttl=47 time=35.824 ms\\n', '64 bytes from 172.217.18.164: icmp_seq=25 ttl=47 time=33.857 ms\\n', '64 bytes from 172.217.18.164: icmp_seq=26 ttl=47 time=44.636 ms\\n', '64 bytes from 172.217.18.164: icmp_seq=27 ttl=47 time=37.169 ms\\n', '64 bytes from 172.217.18.164: icmp_seq=28 ttl=47 time=39.227 ms\\n', '64 bytes from 172.217.18.164: icmp_seq=29 ttl=47 time=33.492 ms\\n', '64 bytes from 172.217.18.164: icmp_seq=30 ttl=47 time=37.999 ms\\n', '64 bytes from 172.217.18.164: icmp_seq=31 ttl=47 time=33.426 ms\\n', '64 bytes from 172.217.18.164: icmp_seq=32 ttl=47 time=36.153 ms\\n', '64 bytes from 172.217.18.164: icmp_seq=33 ttl=47 time=34.590 ms\\n', '64 bytes from 172.217.18.164: icmp_seq=34 ttl=47 time=33.844 ms\\n', '64 bytes from 172.217.18.164: icmp_seq=35 ttl=47 time=33.608 ms\\n', '64 bytes from 172.217.18.164: icmp_seq=36 ttl=47 time=34.931 ms\\n', '64 bytes from 172.217.18.164: icmp_seq=37 ttl=47 time=47.288 ms\\n', '64 bytes from 172.217.18.164: icmp_seq=38 ttl=47 time=37.274 ms\\n', '64 bytes from 172.217.18.164: icmp_seq=39 ttl=47 time=43.071 ms\\n', '64 bytes from 172.217.18.164: icmp_seq=40 ttl=47 time=44.886 ms\\n', '64 bytes from 172.217.18.164: icmp_seq=41 ttl=47 time=34.594 ms\\n', '64 bytes from 172.217.18.164: icmp_seq=42 ttl=47 time=36.425 ms\\n', '64 bytes from 172.217.18.164: icmp_seq=43 ttl=47 time=35.092 ms\\n', '64 bytes from 172.217.18.164: icmp_seq=44 ttl=47 time=51.944 ms\\n', '64 bytes from 172.217.18.164: icmp_seq=45 ttl=47 time=44.163 ms\\n', '64 bytes from 172.217.18.164: icmp_seq=46 ttl=47 time=37.135 ms\\n', '64 bytes from 172.217.18.164: icmp_seq=47 ttl=47 time=50.459 ms\\n', '64 bytes from 172.217.18.164: icmp_seq=48 ttl=47 time=33.713 ms\\n', '64 bytes from 172.217.18.164: icmp_seq=49 ttl=47 time=33.902 ms\\n', '64 bytes from 172.217.18.164: icmp_seq=50 ttl=47 time=42.943 ms\\n', '64 bytes from 172.217.18.164: icmp_seq=51 ttl=47 time=33.411 ms\\n', '64 bytes from 172.217.18.164: icmp_seq=52 ttl=47 time=34.061 ms\\n', '64 bytes from 172.217.18.164: icmp_seq=53 ttl=47 time=36.909 ms\\n', '64 bytes from 172.217.18.164: icmp_seq=54 ttl=47 time=36.835 ms\\n', '64 bytes from 172.217.18.164: icmp_seq=55 ttl=47 time=38.511 ms\\n', '64 bytes from 172.217.18.164: icmp_seq=56 ttl=47 time=34.388 ms\\n', '64 bytes from 172.217.18.164: icmp_seq=57 ttl=47 time=40.324 ms\\n', '64 bytes from 172.217.18.164: icmp_seq=58 ttl=47 time=39.499 ms\\n', '64 bytes from 172.217.18.164: icmp_seq=59 ttl=47 time=47.142 ms\\n', '64 bytes from 172.217.18.164: icmp_seq=60 ttl=47 time=38.913 ms\\n', '64 bytes from 172.217.18.164: icmp_seq=61 ttl=47 time=81.164 ms\\n', '64 bytes from 172.217.18.164: icmp_seq=62 ttl=47 time=46.110 ms\\n', '64 bytes from 172.217.18.164: icmp_seq=63 ttl=47 time=130.464 ms\\n', '64 bytes from 172.217.18.164: icmp_seq=64 ttl=47 time=34.768 ms\\n', '64 bytes from 172.217.18.164: icmp_seq=65 ttl=47 time=37.980 ms\\n', '64 bytes from 172.217.18.164: icmp_seq=66 ttl=47 time=33.385 ms\\n', '64 bytes from 172.217.18.164: icmp_seq=67 ttl=47 time=39.261 ms\\n', '64 bytes from 172.217.18.164: icmp_seq=68 ttl=47 time=34.662 ms\\n', '64 bytes from 172.217.18.164: icmp_seq=69 ttl=47 time=35.449 ms\\n', '64 bytes from 172.217.18.164: icmp_seq=70 ttl=47 time=39.788 ms\\n', '64 bytes from 172.217.18.164: icmp_seq=71 ttl=47 time=33.807 ms\\n', '64 bytes from 172.217.18.164: icmp_seq=72 ttl=47 time=44.520 ms\\n', '64 bytes from 172.217.18.164: icmp_seq=73 ttl=47 time=39.519 ms\\n', '64 bytes from 172.217.18.164: icmp_seq=74 ttl=47 time=35.577 ms\\n', '64 bytes from 172.217.18.164: icmp_seq=75 ttl=47 time=36.112 ms\\n', '64 bytes from 172.217.18.164: icmp_seq=76 ttl=47 time=60.165 ms\\n', '64 bytes from 172.217.18.164: icmp_seq=77 ttl=47 time=38.337 ms\\n', '64 bytes from 172.217.18.164: icmp_seq=78 ttl=47 time=34.666 ms\\n', '64 bytes from 172.217.18.164: icmp_seq=79 ttl=47 time=56.915 ms\\n', '64 bytes from 172.217.18.164: icmp_seq=80 ttl=47 time=77.589 ms\\n', '64 bytes from 172.217.18.164: icmp_seq=81 ttl=47 time=38.686 ms\\n', '64 bytes from 172.217.18.164: icmp_seq=82 ttl=47 time=34.187 ms\\n', '64 bytes from 172.217.18.164: icmp_seq=83 ttl=47 time=34.350 ms\\n', '64 bytes from 172.217.18.164: icmp_seq=84 ttl=47 time=34.337 ms\\n', '64 bytes from 172.217.18.164: icmp_seq=85 ttl=47 time=38.222 ms\\n', '64 bytes from 172.217.18.164: icmp_seq=86 ttl=47 time=34.114 ms\\n', '64 bytes from 172.217.18.164: icmp_seq=87 ttl=47 time=35.173 ms\\n', '64 bytes from 172.217.18.164: icmp_seq=88 ttl=47 time=37.793 ms\\n', '64 bytes from 172.217.18.164: icmp_seq=89 ttl=47 time=40.211 ms\\n', '64 bytes from 172.217.18.164: icmp_seq=90 ttl=47 time=44.632 ms\\n', '64 bytes from 172.217.18.164: icmp_seq=91 ttl=47 time=34.236 ms\\n', '64 bytes from 172.217.18.164: icmp_seq=92 ttl=47 time=39.513 ms\\n', '64 bytes from 172.217.18.164: icmp_seq=93 ttl=47 time=44.759 ms\\n', '64 bytes from 172.217.18.164: icmp_seq=94 ttl=47 time=34.793 ms\\n', '64 bytes from 172.217.18.164: icmp_seq=95 ttl=47 time=36.331 ms\\n', '64 bytes from 172.217.18.164: icmp_seq=96 ttl=47 time=34.480 ms\\n', '64 bytes from 172.217.18.164: icmp_seq=97 ttl=47 time=33.928 ms\\n', '64 bytes from 172.217.18.164: icmp_seq=98 ttl=47 time=36.521 ms\\n', '64 bytes from 172.217.18.164: icmp_seq=99 ttl=47 time=34.521 ms\\n', '\\n', '--- google.in ping statistics ---\\n', '100 packets transmitted, 100 packets received, 0.0% packet loss\\n', 'round-trip min/avg/max/stddev = 33.385/41.597/130.464/13.551 ms\\n']\n",
            "['PING google.mx (172.217.22.67): 56 data bytes\\n', '64 bytes from 172.217.22.67: icmp_seq=0 ttl=47 time=65.572 ms\\n', '64 bytes from 172.217.22.67: icmp_seq=1 ttl=47 time=36.777 ms\\n', '64 bytes from 172.217.22.67: icmp_seq=2 ttl=47 time=42.065 ms\\n', '64 bytes from 172.217.22.67: icmp_seq=3 ttl=47 time=33.758 ms\\n', '64 bytes from 172.217.22.67: icmp_seq=4 ttl=47 time=33.815 ms\\n', '64 bytes from 172.217.22.67: icmp_seq=5 ttl=47 time=33.906 ms\\n', '64 bytes from 172.217.22.67: icmp_seq=6 ttl=47 time=35.620 ms\\n', '64 bytes from 172.217.22.67: icmp_seq=7 ttl=47 time=35.918 ms\\n', '64 bytes from 172.217.22.67: icmp_seq=8 ttl=47 time=33.697 ms\\n', '64 bytes from 172.217.22.67: icmp_seq=9 ttl=47 time=33.865 ms\\n', '64 bytes from 172.217.22.67: icmp_seq=10 ttl=47 time=41.310 ms\\n', '64 bytes from 172.217.22.67: icmp_seq=11 ttl=47 time=39.400 ms\\n', '64 bytes from 172.217.22.67: icmp_seq=12 ttl=47 time=39.227 ms\\n', '64 bytes from 172.217.22.67: icmp_seq=13 ttl=47 time=34.088 ms\\n', '64 bytes from 172.217.22.67: icmp_seq=14 ttl=47 time=50.113 ms\\n', '64 bytes from 172.217.22.67: icmp_seq=15 ttl=47 time=37.650 ms\\n', '64 bytes from 172.217.22.67: icmp_seq=16 ttl=47 time=34.020 ms\\n', '64 bytes from 172.217.22.67: icmp_seq=17 ttl=47 time=34.763 ms\\n', '64 bytes from 172.217.22.67: icmp_seq=18 ttl=47 time=34.234 ms\\n', '64 bytes from 172.217.22.67: icmp_seq=19 ttl=47 time=39.115 ms\\n', '64 bytes from 172.217.22.67: icmp_seq=20 ttl=47 time=34.887 ms\\n', '64 bytes from 172.217.22.67: icmp_seq=21 ttl=47 time=52.973 ms\\n', '64 bytes from 172.217.22.67: icmp_seq=22 ttl=47 time=34.664 ms\\n', '64 bytes from 172.217.22.67: icmp_seq=23 ttl=47 time=38.863 ms\\n', '64 bytes from 172.217.22.67: icmp_seq=24 ttl=47 time=33.971 ms\\n', '64 bytes from 172.217.22.67: icmp_seq=25 ttl=47 time=33.923 ms\\n', '64 bytes from 172.217.22.67: icmp_seq=26 ttl=47 time=33.349 ms\\n', '64 bytes from 172.217.22.67: icmp_seq=27 ttl=47 time=41.466 ms\\n', '64 bytes from 172.217.22.67: icmp_seq=28 ttl=47 time=35.226 ms\\n', '64 bytes from 172.217.22.67: icmp_seq=29 ttl=47 time=36.627 ms\\n', '64 bytes from 172.217.22.67: icmp_seq=30 ttl=47 time=35.386 ms\\n', '64 bytes from 172.217.22.67: icmp_seq=31 ttl=47 time=33.994 ms\\n', '64 bytes from 172.217.22.67: icmp_seq=32 ttl=47 time=33.697 ms\\n', '64 bytes from 172.217.22.67: icmp_seq=33 ttl=47 time=46.214 ms\\n', '64 bytes from 172.217.22.67: icmp_seq=34 ttl=47 time=35.066 ms\\n', '64 bytes from 172.217.22.67: icmp_seq=35 ttl=47 time=42.978 ms\\n', '64 bytes from 172.217.22.67: icmp_seq=36 ttl=47 time=37.414 ms\\n', '64 bytes from 172.217.22.67: icmp_seq=37 ttl=47 time=35.488 ms\\n', '64 bytes from 172.217.22.67: icmp_seq=38 ttl=47 time=55.802 ms\\n', '64 bytes from 172.217.22.67: icmp_seq=39 ttl=47 time=34.524 ms\\n', '64 bytes from 172.217.22.67: icmp_seq=40 ttl=47 time=33.830 ms\\n', '64 bytes from 172.217.22.67: icmp_seq=41 ttl=47 time=43.763 ms\\n', '64 bytes from 172.217.22.67: icmp_seq=42 ttl=47 time=34.753 ms\\n', '64 bytes from 172.217.22.67: icmp_seq=43 ttl=47 time=66.327 ms\\n', '64 bytes from 172.217.22.67: icmp_seq=44 ttl=47 time=33.875 ms\\n', '64 bytes from 172.217.22.67: icmp_seq=45 ttl=47 time=36.780 ms\\n', '64 bytes from 172.217.22.67: icmp_seq=46 ttl=47 time=35.464 ms\\n', '64 bytes from 172.217.22.67: icmp_seq=47 ttl=47 time=34.826 ms\\n', '64 bytes from 172.217.22.67: icmp_seq=48 ttl=47 time=44.250 ms\\n', '64 bytes from 172.217.22.67: icmp_seq=49 ttl=47 time=35.972 ms\\n', '64 bytes from 172.217.22.67: icmp_seq=50 ttl=47 time=34.370 ms\\n', '64 bytes from 172.217.22.67: icmp_seq=51 ttl=47 time=35.876 ms\\n', '64 bytes from 172.217.22.67: icmp_seq=52 ttl=47 time=37.375 ms\\n', '64 bytes from 172.217.22.67: icmp_seq=53 ttl=47 time=34.027 ms\\n', '64 bytes from 172.217.22.67: icmp_seq=54 ttl=47 time=45.528 ms\\n', '64 bytes from 172.217.22.67: icmp_seq=55 ttl=47 time=36.660 ms\\n', '64 bytes from 172.217.22.67: icmp_seq=56 ttl=47 time=35.603 ms\\n', '64 bytes from 172.217.22.67: icmp_seq=57 ttl=47 time=50.796 ms\\n', '64 bytes from 172.217.22.67: icmp_seq=58 ttl=47 time=33.832 ms\\n', '64 bytes from 172.217.22.67: icmp_seq=59 ttl=47 time=35.286 ms\\n', '64 bytes from 172.217.22.67: icmp_seq=60 ttl=47 time=48.618 ms\\n', '64 bytes from 172.217.22.67: icmp_seq=61 ttl=47 time=39.319 ms\\n', '64 bytes from 172.217.22.67: icmp_seq=62 ttl=47 time=33.611 ms\\n', '64 bytes from 172.217.22.67: icmp_seq=63 ttl=47 time=33.581 ms\\n', '64 bytes from 172.217.22.67: icmp_seq=64 ttl=47 time=39.761 ms\\n', '64 bytes from 172.217.22.67: icmp_seq=65 ttl=47 time=37.050 ms\\n', '64 bytes from 172.217.22.67: icmp_seq=66 ttl=47 time=36.865 ms\\n', '64 bytes from 172.217.22.67: icmp_seq=67 ttl=47 time=42.990 ms\\n', '64 bytes from 172.217.22.67: icmp_seq=68 ttl=47 time=37.469 ms\\n', '64 bytes from 172.217.22.67: icmp_seq=69 ttl=47 time=34.828 ms\\n', '64 bytes from 172.217.22.67: icmp_seq=70 ttl=47 time=61.303 ms\\n', '64 bytes from 172.217.22.67: icmp_seq=71 ttl=47 time=33.447 ms\\n', '64 bytes from 172.217.22.67: icmp_seq=72 ttl=47 time=33.691 ms\\n', '64 bytes from 172.217.22.67: icmp_seq=73 ttl=47 time=35.628 ms\\n', '64 bytes from 172.217.22.67: icmp_seq=74 ttl=47 time=36.172 ms\\n', '64 bytes from 172.217.22.67: icmp_seq=75 ttl=47 time=35.906 ms\\n', '64 bytes from 172.217.22.67: icmp_seq=76 ttl=47 time=33.071 ms\\n', '64 bytes from 172.217.22.67: icmp_seq=77 ttl=47 time=39.929 ms\\n', '64 bytes from 172.217.22.67: icmp_seq=78 ttl=47 time=36.862 ms\\n', '64 bytes from 172.217.22.67: icmp_seq=79 ttl=47 time=33.516 ms\\n', '64 bytes from 172.217.22.67: icmp_seq=80 ttl=47 time=33.982 ms\\n', '64 bytes from 172.217.22.67: icmp_seq=81 ttl=47 time=37.291 ms\\n', '64 bytes from 172.217.22.67: icmp_seq=82 ttl=47 time=40.171 ms\\n', '64 bytes from 172.217.22.67: icmp_seq=83 ttl=47 time=34.759 ms\\n', '64 bytes from 172.217.22.67: icmp_seq=84 ttl=47 time=35.446 ms\\n', '64 bytes from 172.217.22.67: icmp_seq=85 ttl=47 time=34.909 ms\\n', '64 bytes from 172.217.22.67: icmp_seq=86 ttl=47 time=33.896 ms\\n', '64 bytes from 172.217.22.67: icmp_seq=87 ttl=47 time=46.063 ms\\n', '64 bytes from 172.217.22.67: icmp_seq=88 ttl=47 time=33.727 ms\\n', '64 bytes from 172.217.22.67: icmp_seq=89 ttl=47 time=35.189 ms\\n', '64 bytes from 172.217.22.67: icmp_seq=90 ttl=47 time=75.768 ms\\n', '64 bytes from 172.217.22.67: icmp_seq=91 ttl=47 time=35.346 ms\\n', '64 bytes from 172.217.22.67: icmp_seq=92 ttl=47 time=161.899 ms\\n', '64 bytes from 172.217.22.67: icmp_seq=93 ttl=47 time=44.203 ms\\n', '64 bytes from 172.217.22.67: icmp_seq=94 ttl=47 time=35.195 ms\\n', '64 bytes from 172.217.22.67: icmp_seq=95 ttl=47 time=100.765 ms\\n', '64 bytes from 172.217.22.67: icmp_seq=96 ttl=47 time=41.357 ms\\n', '64 bytes from 172.217.22.67: icmp_seq=97 ttl=47 time=49.206 ms\\n', '64 bytes from 172.217.22.67: icmp_seq=98 ttl=47 time=121.210 ms\\n', '64 bytes from 172.217.22.67: icmp_seq=99 ttl=47 time=41.609 ms\\n', '\\n', '--- google.mx ping statistics ---\\n', '100 packets transmitted, 100 packets received, 0.0% packet loss\\n', 'round-trip min/avg/max/stddev = 33.071/41.502/161.899/17.531 ms\\n']\n",
            "['PING google.com (172.217.22.78): 56 data bytes\\n', '64 bytes from 172.217.22.78: icmp_seq=0 ttl=47 time=35.110 ms\\n', '64 bytes from 172.217.22.78: icmp_seq=1 ttl=47 time=34.280 ms\\n', '64 bytes from 172.217.22.78: icmp_seq=2 ttl=47 time=47.308 ms\\n', '64 bytes from 172.217.22.78: icmp_seq=3 ttl=47 time=34.064 ms\\n', '64 bytes from 172.217.22.78: icmp_seq=4 ttl=47 time=33.449 ms\\n', '64 bytes from 172.217.22.78: icmp_seq=5 ttl=47 time=33.809 ms\\n', '64 bytes from 172.217.22.78: icmp_seq=6 ttl=47 time=34.719 ms\\n', '64 bytes from 172.217.22.78: icmp_seq=7 ttl=47 time=41.386 ms\\n', '64 bytes from 172.217.22.78: icmp_seq=8 ttl=47 time=36.289 ms\\n', '64 bytes from 172.217.22.78: icmp_seq=9 ttl=47 time=34.030 ms\\n', '64 bytes from 172.217.22.78: icmp_seq=10 ttl=47 time=35.987 ms\\n', '64 bytes from 172.217.22.78: icmp_seq=11 ttl=47 time=36.663 ms\\n', '64 bytes from 172.217.22.78: icmp_seq=12 ttl=47 time=34.111 ms\\n', '64 bytes from 172.217.22.78: icmp_seq=13 ttl=47 time=34.173 ms\\n', '64 bytes from 172.217.22.78: icmp_seq=14 ttl=47 time=34.864 ms\\n', '64 bytes from 172.217.22.78: icmp_seq=15 ttl=47 time=33.685 ms\\n', '64 bytes from 172.217.22.78: icmp_seq=16 ttl=47 time=35.461 ms\\n', '64 bytes from 172.217.22.78: icmp_seq=17 ttl=47 time=38.349 ms\\n', '64 bytes from 172.217.22.78: icmp_seq=18 ttl=47 time=40.493 ms\\n', '64 bytes from 172.217.22.78: icmp_seq=19 ttl=47 time=34.849 ms\\n', '64 bytes from 172.217.22.78: icmp_seq=20 ttl=47 time=33.237 ms\\n', '64 bytes from 172.217.22.78: icmp_seq=21 ttl=47 time=40.036 ms\\n', '64 bytes from 172.217.22.78: icmp_seq=22 ttl=47 time=35.010 ms\\n', '64 bytes from 172.217.22.78: icmp_seq=23 ttl=47 time=34.488 ms\\n', '64 bytes from 172.217.22.78: icmp_seq=24 ttl=47 time=33.583 ms\\n', '64 bytes from 172.217.22.78: icmp_seq=25 ttl=47 time=36.868 ms\\n', '64 bytes from 172.217.22.78: icmp_seq=26 ttl=47 time=37.850 ms\\n', '64 bytes from 172.217.22.78: icmp_seq=27 ttl=47 time=34.772 ms\\n', '64 bytes from 172.217.22.78: icmp_seq=28 ttl=47 time=36.843 ms\\n', '64 bytes from 172.217.22.78: icmp_seq=29 ttl=47 time=33.529 ms\\n', '64 bytes from 172.217.22.78: icmp_seq=30 ttl=47 time=41.004 ms\\n', '64 bytes from 172.217.22.78: icmp_seq=31 ttl=47 time=33.613 ms\\n', '64 bytes from 172.217.22.78: icmp_seq=32 ttl=47 time=37.043 ms\\n', '64 bytes from 172.217.22.78: icmp_seq=33 ttl=47 time=39.088 ms\\n', '64 bytes from 172.217.22.78: icmp_seq=34 ttl=47 time=34.401 ms\\n', '64 bytes from 172.217.22.78: icmp_seq=35 ttl=47 time=34.009 ms\\n', '64 bytes from 172.217.22.78: icmp_seq=36 ttl=47 time=33.302 ms\\n', '64 bytes from 172.217.22.78: icmp_seq=37 ttl=47 time=34.467 ms\\n', '64 bytes from 172.217.22.78: icmp_seq=38 ttl=47 time=33.422 ms\\n', '64 bytes from 172.217.22.78: icmp_seq=39 ttl=47 time=34.899 ms\\n', '64 bytes from 172.217.22.78: icmp_seq=40 ttl=47 time=33.615 ms\\n', '64 bytes from 172.217.22.78: icmp_seq=41 ttl=47 time=34.838 ms\\n', '64 bytes from 172.217.22.78: icmp_seq=42 ttl=47 time=33.306 ms\\n', '64 bytes from 172.217.22.78: icmp_seq=43 ttl=47 time=33.522 ms\\n', '64 bytes from 172.217.22.78: icmp_seq=44 ttl=47 time=33.513 ms\\n', '64 bytes from 172.217.22.78: icmp_seq=45 ttl=47 time=33.287 ms\\n', '64 bytes from 172.217.22.78: icmp_seq=46 ttl=47 time=34.338 ms\\n', '64 bytes from 172.217.22.78: icmp_seq=47 ttl=47 time=33.414 ms\\n', '64 bytes from 172.217.22.78: icmp_seq=48 ttl=47 time=33.578 ms\\n', '64 bytes from 172.217.22.78: icmp_seq=49 ttl=47 time=33.623 ms\\n', '64 bytes from 172.217.22.78: icmp_seq=50 ttl=47 time=35.822 ms\\n', '64 bytes from 172.217.22.78: icmp_seq=51 ttl=47 time=33.827 ms\\n', 'Request timeout for icmp_seq 52\\n', '64 bytes from 172.217.22.78: icmp_seq=53 ttl=47 time=36.400 ms\\n', '64 bytes from 172.217.22.78: icmp_seq=54 ttl=47 time=33.591 ms\\n', '64 bytes from 172.217.22.78: icmp_seq=55 ttl=47 time=40.369 ms\\n', '64 bytes from 172.217.22.78: icmp_seq=56 ttl=47 time=37.055 ms\\n', '64 bytes from 172.217.22.78: icmp_seq=57 ttl=47 time=34.568 ms\\n', '64 bytes from 172.217.22.78: icmp_seq=58 ttl=47 time=33.377 ms\\n', '64 bytes from 172.217.22.78: icmp_seq=59 ttl=47 time=33.419 ms\\n', '64 bytes from 172.217.22.78: icmp_seq=60 ttl=47 time=35.625 ms\\n', '64 bytes from 172.217.22.78: icmp_seq=61 ttl=47 time=38.719 ms\\n', '64 bytes from 172.217.22.78: icmp_seq=62 ttl=47 time=42.646 ms\\n', '64 bytes from 172.217.22.78: icmp_seq=63 ttl=47 time=35.923 ms\\n', '64 bytes from 172.217.22.78: icmp_seq=64 ttl=47 time=36.956 ms\\n', '64 bytes from 172.217.22.78: icmp_seq=65 ttl=47 time=33.436 ms\\n', '64 bytes from 172.217.22.78: icmp_seq=66 ttl=47 time=33.257 ms\\n', '64 bytes from 172.217.22.78: icmp_seq=67 ttl=47 time=39.778 ms\\n', '64 bytes from 172.217.22.78: icmp_seq=68 ttl=47 time=35.601 ms\\n', '64 bytes from 172.217.22.78: icmp_seq=69 ttl=47 time=33.274 ms\\n', '64 bytes from 172.217.22.78: icmp_seq=70 ttl=47 time=33.299 ms\\n', '64 bytes from 172.217.22.78: icmp_seq=71 ttl=47 time=33.437 ms\\n', '64 bytes from 172.217.22.78: icmp_seq=72 ttl=47 time=33.455 ms\\n', '64 bytes from 172.217.22.78: icmp_seq=73 ttl=47 time=33.897 ms\\n', '64 bytes from 172.217.22.78: icmp_seq=74 ttl=47 time=33.179 ms\\n', '64 bytes from 172.217.22.78: icmp_seq=75 ttl=47 time=47.459 ms\\n', '64 bytes from 172.217.22.78: icmp_seq=76 ttl=47 time=37.379 ms\\n', '64 bytes from 172.217.22.78: icmp_seq=77 ttl=47 time=34.205 ms\\n', '64 bytes from 172.217.22.78: icmp_seq=78 ttl=47 time=35.216 ms\\n', '64 bytes from 172.217.22.78: icmp_seq=79 ttl=47 time=34.475 ms\\n', '64 bytes from 172.217.22.78: icmp_seq=80 ttl=47 time=34.747 ms\\n', '64 bytes from 172.217.22.78: icmp_seq=81 ttl=47 time=36.799 ms\\n', '64 bytes from 172.217.22.78: icmp_seq=82 ttl=47 time=33.541 ms\\n', '64 bytes from 172.217.22.78: icmp_seq=83 ttl=47 time=33.749 ms\\n', '64 bytes from 172.217.22.78: icmp_seq=84 ttl=47 time=38.049 ms\\n', '64 bytes from 172.217.22.78: icmp_seq=85 ttl=47 time=33.374 ms\\n', '64 bytes from 172.217.22.78: icmp_seq=86 ttl=47 time=33.370 ms\\n', '64 bytes from 172.217.22.78: icmp_seq=87 ttl=47 time=37.417 ms\\n', '64 bytes from 172.217.22.78: icmp_seq=88 ttl=47 time=42.058 ms\\n', '64 bytes from 172.217.22.78: icmp_seq=89 ttl=47 time=33.958 ms\\n', '64 bytes from 172.217.22.78: icmp_seq=90 ttl=47 time=36.086 ms\\n', '64 bytes from 172.217.22.78: icmp_seq=91 ttl=47 time=36.076 ms\\n', '64 bytes from 172.217.22.78: icmp_seq=92 ttl=47 time=33.819 ms\\n', '64 bytes from 172.217.22.78: icmp_seq=93 ttl=47 time=34.862 ms\\n', '64 bytes from 172.217.22.78: icmp_seq=94 ttl=47 time=33.401 ms\\n', '64 bytes from 172.217.22.78: icmp_seq=95 ttl=47 time=36.078 ms\\n', '64 bytes from 172.217.22.78: icmp_seq=96 ttl=47 time=34.308 ms\\n', '64 bytes from 172.217.22.78: icmp_seq=97 ttl=47 time=43.140 ms\\n', '64 bytes from 172.217.22.78: icmp_seq=98 ttl=47 time=33.873 ms\\n', '64 bytes from 172.217.22.78: icmp_seq=99 ttl=47 time=34.119 ms\\n', '\\n', '--- google.com ping statistics ---\\n', '100 packets transmitted, 99 packets received, 1.0% packet loss\\n', 'round-trip min/avg/max/stddev = 33.179/35.596/47.459/2.893 ms\\n']\n",
            "['PING google.ie (172.217.16.131): 56 data bytes\\n', '64 bytes from 172.217.16.131: icmp_seq=0 ttl=47 time=41.503 ms\\n', '64 bytes from 172.217.16.131: icmp_seq=1 ttl=47 time=35.477 ms\\n', '64 bytes from 172.217.16.131: icmp_seq=2 ttl=47 time=36.613 ms\\n', '64 bytes from 172.217.16.131: icmp_seq=3 ttl=47 time=35.077 ms\\n', 'Request timeout for icmp_seq 4\\n', '64 bytes from 172.217.16.131: icmp_seq=5 ttl=47 time=35.024 ms\\n', '64 bytes from 172.217.16.131: icmp_seq=6 ttl=47 time=35.040 ms\\n', '64 bytes from 172.217.16.131: icmp_seq=7 ttl=47 time=58.200 ms\\n', '64 bytes from 172.217.16.131: icmp_seq=8 ttl=47 time=33.824 ms\\n', '64 bytes from 172.217.16.131: icmp_seq=9 ttl=47 time=56.815 ms\\n', '64 bytes from 172.217.16.131: icmp_seq=10 ttl=47 time=34.217 ms\\n', '64 bytes from 172.217.16.131: icmp_seq=11 ttl=47 time=34.299 ms\\n', '64 bytes from 172.217.16.131: icmp_seq=12 ttl=47 time=33.718 ms\\n', '64 bytes from 172.217.16.131: icmp_seq=13 ttl=47 time=37.570 ms\\n', '64 bytes from 172.217.16.131: icmp_seq=14 ttl=47 time=35.899 ms\\n', '64 bytes from 172.217.16.131: icmp_seq=15 ttl=47 time=58.313 ms\\n', '64 bytes from 172.217.16.131: icmp_seq=16 ttl=47 time=145.317 ms\\n', '64 bytes from 172.217.16.131: icmp_seq=17 ttl=47 time=33.740 ms\\n', '64 bytes from 172.217.16.131: icmp_seq=18 ttl=47 time=67.267 ms\\n', '64 bytes from 172.217.16.131: icmp_seq=19 ttl=47 time=36.164 ms\\n', '64 bytes from 172.217.16.131: icmp_seq=20 ttl=47 time=44.817 ms\\n', '64 bytes from 172.217.16.131: icmp_seq=21 ttl=47 time=40.377 ms\\n', '64 bytes from 172.217.16.131: icmp_seq=22 ttl=47 time=34.460 ms\\n', '64 bytes from 172.217.16.131: icmp_seq=23 ttl=47 time=59.276 ms\\n', '64 bytes from 172.217.16.131: icmp_seq=24 ttl=47 time=62.547 ms\\n', '64 bytes from 172.217.16.131: icmp_seq=25 ttl=47 time=36.401 ms\\n', '64 bytes from 172.217.16.131: icmp_seq=26 ttl=47 time=35.380 ms\\n', '64 bytes from 172.217.16.131: icmp_seq=27 ttl=47 time=35.599 ms\\n', '64 bytes from 172.217.16.131: icmp_seq=28 ttl=47 time=76.264 ms\\n', '64 bytes from 172.217.16.131: icmp_seq=29 ttl=47 time=38.560 ms\\n', '64 bytes from 172.217.16.131: icmp_seq=30 ttl=47 time=44.979 ms\\n', '64 bytes from 172.217.16.131: icmp_seq=31 ttl=47 time=38.901 ms\\n', '64 bytes from 172.217.16.131: icmp_seq=32 ttl=47 time=33.832 ms\\n', '64 bytes from 172.217.16.131: icmp_seq=33 ttl=47 time=34.114 ms\\n', '64 bytes from 172.217.16.131: icmp_seq=34 ttl=47 time=34.900 ms\\n', '64 bytes from 172.217.16.131: icmp_seq=35 ttl=47 time=34.759 ms\\n', '64 bytes from 172.217.16.131: icmp_seq=36 ttl=47 time=38.567 ms\\n', '64 bytes from 172.217.16.131: icmp_seq=37 ttl=47 time=45.687 ms\\n', '64 bytes from 172.217.16.131: icmp_seq=38 ttl=47 time=52.453 ms\\n', '64 bytes from 172.217.16.131: icmp_seq=39 ttl=47 time=37.461 ms\\n', '64 bytes from 172.217.16.131: icmp_seq=40 ttl=47 time=35.500 ms\\n', '64 bytes from 172.217.16.131: icmp_seq=41 ttl=47 time=44.847 ms\\n', '64 bytes from 172.217.16.131: icmp_seq=42 ttl=47 time=35.508 ms\\n', '64 bytes from 172.217.16.131: icmp_seq=43 ttl=47 time=33.796 ms\\n', '64 bytes from 172.217.16.131: icmp_seq=44 ttl=47 time=35.675 ms\\n', '64 bytes from 172.217.16.131: icmp_seq=45 ttl=47 time=33.287 ms\\n', '64 bytes from 172.217.16.131: icmp_seq=46 ttl=47 time=41.013 ms\\n', '64 bytes from 172.217.16.131: icmp_seq=47 ttl=47 time=35.684 ms\\n', '64 bytes from 172.217.16.131: icmp_seq=48 ttl=47 time=39.802 ms\\n', '64 bytes from 172.217.16.131: icmp_seq=49 ttl=47 time=40.047 ms\\n', '64 bytes from 172.217.16.131: icmp_seq=50 ttl=47 time=55.501 ms\\n', '64 bytes from 172.217.16.131: icmp_seq=51 ttl=47 time=33.959 ms\\n', '64 bytes from 172.217.16.131: icmp_seq=52 ttl=47 time=34.128 ms\\n', '64 bytes from 172.217.16.131: icmp_seq=53 ttl=47 time=34.648 ms\\n', '64 bytes from 172.217.16.131: icmp_seq=54 ttl=47 time=51.120 ms\\n', '64 bytes from 172.217.16.131: icmp_seq=55 ttl=47 time=34.209 ms\\n', '64 bytes from 172.217.16.131: icmp_seq=56 ttl=47 time=34.256 ms\\n', '64 bytes from 172.217.16.131: icmp_seq=57 ttl=47 time=50.033 ms\\n', '64 bytes from 172.217.16.131: icmp_seq=58 ttl=47 time=33.567 ms\\n', '64 bytes from 172.217.16.131: icmp_seq=59 ttl=47 time=37.565 ms\\n', '64 bytes from 172.217.16.131: icmp_seq=60 ttl=47 time=60.096 ms\\n', '64 bytes from 172.217.16.131: icmp_seq=61 ttl=47 time=34.429 ms\\n', '64 bytes from 172.217.16.131: icmp_seq=62 ttl=47 time=50.726 ms\\n', '64 bytes from 172.217.16.131: icmp_seq=63 ttl=47 time=64.800 ms\\n', '64 bytes from 172.217.16.131: icmp_seq=64 ttl=47 time=61.940 ms\\n', '64 bytes from 172.217.16.131: icmp_seq=65 ttl=47 time=34.955 ms\\n', '64 bytes from 172.217.16.131: icmp_seq=66 ttl=47 time=73.554 ms\\n', '64 bytes from 172.217.16.131: icmp_seq=67 ttl=47 time=36.528 ms\\n', '64 bytes from 172.217.16.131: icmp_seq=68 ttl=47 time=36.748 ms\\n', '64 bytes from 172.217.16.131: icmp_seq=69 ttl=47 time=44.186 ms\\n', '64 bytes from 172.217.16.131: icmp_seq=70 ttl=47 time=118.017 ms\\n', '64 bytes from 172.217.16.131: icmp_seq=71 ttl=47 time=40.177 ms\\n', '64 bytes from 172.217.16.131: icmp_seq=72 ttl=47 time=46.591 ms\\n', '64 bytes from 172.217.16.131: icmp_seq=73 ttl=47 time=35.039 ms\\n', '64 bytes from 172.217.16.131: icmp_seq=74 ttl=47 time=42.608 ms\\n', '64 bytes from 172.217.16.131: icmp_seq=75 ttl=47 time=36.411 ms\\n', '64 bytes from 172.217.16.131: icmp_seq=76 ttl=47 time=50.468 ms\\n', '64 bytes from 172.217.16.131: icmp_seq=77 ttl=47 time=76.796 ms\\n', '64 bytes from 172.217.16.131: icmp_seq=78 ttl=47 time=41.198 ms\\n', '64 bytes from 172.217.16.131: icmp_seq=79 ttl=47 time=53.678 ms\\n', '64 bytes from 172.217.16.131: icmp_seq=80 ttl=47 time=53.120 ms\\n', '64 bytes from 172.217.16.131: icmp_seq=81 ttl=47 time=36.293 ms\\n', '64 bytes from 172.217.16.131: icmp_seq=82 ttl=47 time=34.991 ms\\n', '64 bytes from 172.217.16.131: icmp_seq=83 ttl=47 time=46.914 ms\\n', '64 bytes from 172.217.16.131: icmp_seq=84 ttl=47 time=34.393 ms\\n', '64 bytes from 172.217.16.131: icmp_seq=85 ttl=47 time=40.716 ms\\n', '64 bytes from 172.217.16.131: icmp_seq=86 ttl=47 time=54.271 ms\\n', '64 bytes from 172.217.16.131: icmp_seq=87 ttl=47 time=39.750 ms\\n', '64 bytes from 172.217.16.131: icmp_seq=88 ttl=47 time=39.722 ms\\n', '64 bytes from 172.217.16.131: icmp_seq=89 ttl=47 time=40.553 ms\\n', '64 bytes from 172.217.16.131: icmp_seq=90 ttl=47 time=51.799 ms\\n', '64 bytes from 172.217.16.131: icmp_seq=91 ttl=47 time=35.072 ms\\n', '64 bytes from 172.217.16.131: icmp_seq=92 ttl=47 time=34.096 ms\\n', '64 bytes from 172.217.16.131: icmp_seq=93 ttl=47 time=38.444 ms\\n', '64 bytes from 172.217.16.131: icmp_seq=94 ttl=47 time=35.559 ms\\n', '64 bytes from 172.217.16.131: icmp_seq=95 ttl=47 time=59.009 ms\\n', '64 bytes from 172.217.16.131: icmp_seq=96 ttl=47 time=91.978 ms\\n', '64 bytes from 172.217.16.131: icmp_seq=97 ttl=47 time=38.565 ms\\n', '64 bytes from 172.217.16.131: icmp_seq=98 ttl=47 time=56.026 ms\\n', '64 bytes from 172.217.16.131: icmp_seq=99 ttl=47 time=34.656 ms\\n', '\\n', '--- google.ie ping statistics ---\\n', '100 packets transmitted, 99 packets received, 1.0% packet loss\\n', 'round-trip min/avg/max/stddev = 33.287/44.974/145.317/17.089 ms\\n']\n",
            "['PING google.co.uk (172.217.21.195): 56 data bytes\\n', '64 bytes from 172.217.21.195: icmp_seq=0 ttl=47 time=33.416 ms\\n', '64 bytes from 172.217.21.195: icmp_seq=1 ttl=47 time=36.307 ms\\n', '64 bytes from 172.217.21.195: icmp_seq=2 ttl=47 time=46.344 ms\\n', '64 bytes from 172.217.21.195: icmp_seq=3 ttl=47 time=41.392 ms\\n', '64 bytes from 172.217.21.195: icmp_seq=4 ttl=47 time=35.828 ms\\n', '64 bytes from 172.217.21.195: icmp_seq=5 ttl=47 time=33.276 ms\\n', '64 bytes from 172.217.21.195: icmp_seq=6 ttl=47 time=34.443 ms\\n', '64 bytes from 172.217.21.195: icmp_seq=7 ttl=47 time=33.967 ms\\n', '64 bytes from 172.217.21.195: icmp_seq=8 ttl=47 time=34.989 ms\\n', '64 bytes from 172.217.21.195: icmp_seq=9 ttl=47 time=36.957 ms\\n', '64 bytes from 172.217.21.195: icmp_seq=10 ttl=47 time=33.925 ms\\n', '64 bytes from 172.217.21.195: icmp_seq=11 ttl=47 time=46.769 ms\\n', '64 bytes from 172.217.21.195: icmp_seq=12 ttl=47 time=68.545 ms\\n', '64 bytes from 172.217.21.195: icmp_seq=13 ttl=47 time=33.595 ms\\n', '64 bytes from 172.217.21.195: icmp_seq=14 ttl=47 time=39.628 ms\\n', '64 bytes from 172.217.21.195: icmp_seq=15 ttl=47 time=34.322 ms\\n', '64 bytes from 172.217.21.195: icmp_seq=16 ttl=47 time=34.121 ms\\n', '64 bytes from 172.217.21.195: icmp_seq=17 ttl=47 time=41.858 ms\\n', '64 bytes from 172.217.21.195: icmp_seq=18 ttl=47 time=36.702 ms\\n', '64 bytes from 172.217.21.195: icmp_seq=19 ttl=47 time=37.876 ms\\n', '64 bytes from 172.217.21.195: icmp_seq=20 ttl=47 time=33.870 ms\\n', '64 bytes from 172.217.21.195: icmp_seq=21 ttl=47 time=39.182 ms\\n', '64 bytes from 172.217.21.195: icmp_seq=22 ttl=47 time=42.865 ms\\n', '64 bytes from 172.217.21.195: icmp_seq=23 ttl=47 time=46.900 ms\\n', '64 bytes from 172.217.21.195: icmp_seq=24 ttl=47 time=38.255 ms\\n', '64 bytes from 172.217.21.195: icmp_seq=25 ttl=47 time=33.159 ms\\n', '64 bytes from 172.217.21.195: icmp_seq=26 ttl=47 time=34.000 ms\\n', '64 bytes from 172.217.21.195: icmp_seq=27 ttl=47 time=43.309 ms\\n', '64 bytes from 172.217.21.195: icmp_seq=28 ttl=47 time=35.196 ms\\n', '64 bytes from 172.217.21.195: icmp_seq=29 ttl=47 time=33.445 ms\\n', '64 bytes from 172.217.21.195: icmp_seq=30 ttl=47 time=33.874 ms\\n', '64 bytes from 172.217.21.195: icmp_seq=31 ttl=47 time=49.084 ms\\n', '64 bytes from 172.217.21.195: icmp_seq=32 ttl=47 time=34.570 ms\\n', '64 bytes from 172.217.21.195: icmp_seq=33 ttl=47 time=33.973 ms\\n', '64 bytes from 172.217.21.195: icmp_seq=34 ttl=47 time=40.802 ms\\n', '64 bytes from 172.217.21.195: icmp_seq=35 ttl=47 time=35.954 ms\\n', '64 bytes from 172.217.21.195: icmp_seq=36 ttl=47 time=44.240 ms\\n', '64 bytes from 172.217.21.195: icmp_seq=37 ttl=47 time=39.928 ms\\n', '64 bytes from 172.217.21.195: icmp_seq=38 ttl=47 time=38.379 ms\\n', '64 bytes from 172.217.21.195: icmp_seq=39 ttl=47 time=33.562 ms\\n', '64 bytes from 172.217.21.195: icmp_seq=40 ttl=47 time=34.412 ms\\n', '64 bytes from 172.217.21.195: icmp_seq=41 ttl=47 time=44.443 ms\\n', '64 bytes from 172.217.21.195: icmp_seq=42 ttl=47 time=44.038 ms\\n', '64 bytes from 172.217.21.195: icmp_seq=43 ttl=47 time=34.401 ms\\n', '64 bytes from 172.217.21.195: icmp_seq=44 ttl=47 time=53.818 ms\\n', '64 bytes from 172.217.21.195: icmp_seq=45 ttl=47 time=33.714 ms\\n', '64 bytes from 172.217.21.195: icmp_seq=46 ttl=47 time=36.757 ms\\n', '64 bytes from 172.217.21.195: icmp_seq=47 ttl=47 time=33.551 ms\\n', '64 bytes from 172.217.21.195: icmp_seq=48 ttl=47 time=48.652 ms\\n', '64 bytes from 172.217.21.195: icmp_seq=49 ttl=47 time=33.561 ms\\n', '64 bytes from 172.217.21.195: icmp_seq=50 ttl=47 time=36.285 ms\\n', '64 bytes from 172.217.21.195: icmp_seq=51 ttl=47 time=40.887 ms\\n', '64 bytes from 172.217.21.195: icmp_seq=52 ttl=47 time=41.750 ms\\n', '64 bytes from 172.217.21.195: icmp_seq=53 ttl=47 time=34.122 ms\\n', '64 bytes from 172.217.21.195: icmp_seq=54 ttl=47 time=38.966 ms\\n', '64 bytes from 172.217.21.195: icmp_seq=55 ttl=47 time=33.286 ms\\n', '64 bytes from 172.217.21.195: icmp_seq=56 ttl=47 time=35.740 ms\\n', '64 bytes from 172.217.21.195: icmp_seq=57 ttl=47 time=49.326 ms\\n', '64 bytes from 172.217.21.195: icmp_seq=58 ttl=47 time=35.877 ms\\n', '64 bytes from 172.217.21.195: icmp_seq=59 ttl=47 time=33.363 ms\\n', '64 bytes from 172.217.21.195: icmp_seq=60 ttl=47 time=37.591 ms\\n', '64 bytes from 172.217.21.195: icmp_seq=61 ttl=47 time=35.021 ms\\n', '64 bytes from 172.217.21.195: icmp_seq=62 ttl=47 time=33.880 ms\\n', '64 bytes from 172.217.21.195: icmp_seq=63 ttl=47 time=35.817 ms\\n', '64 bytes from 172.217.21.195: icmp_seq=64 ttl=47 time=131.058 ms\\n', '64 bytes from 172.217.21.195: icmp_seq=65 ttl=47 time=33.188 ms\\n', '64 bytes from 172.217.21.195: icmp_seq=66 ttl=47 time=45.101 ms\\n', '64 bytes from 172.217.21.195: icmp_seq=67 ttl=47 time=39.145 ms\\n', '64 bytes from 172.217.21.195: icmp_seq=68 ttl=47 time=34.670 ms\\n', '64 bytes from 172.217.21.195: icmp_seq=69 ttl=47 time=33.388 ms\\n', '64 bytes from 172.217.21.195: icmp_seq=70 ttl=47 time=34.642 ms\\n', '64 bytes from 172.217.21.195: icmp_seq=71 ttl=47 time=40.063 ms\\n', '64 bytes from 172.217.21.195: icmp_seq=72 ttl=47 time=34.235 ms\\n', '64 bytes from 172.217.21.195: icmp_seq=73 ttl=47 time=100.517 ms\\n', '64 bytes from 172.217.21.195: icmp_seq=74 ttl=47 time=35.277 ms\\n', '64 bytes from 172.217.21.195: icmp_seq=75 ttl=47 time=36.498 ms\\n', '64 bytes from 172.217.21.195: icmp_seq=76 ttl=47 time=35.316 ms\\n', '64 bytes from 172.217.21.195: icmp_seq=77 ttl=47 time=42.899 ms\\n', '64 bytes from 172.217.21.195: icmp_seq=78 ttl=47 time=33.584 ms\\n', '64 bytes from 172.217.21.195: icmp_seq=79 ttl=47 time=35.107 ms\\n', '64 bytes from 172.217.21.195: icmp_seq=80 ttl=47 time=37.666 ms\\n', '64 bytes from 172.217.21.195: icmp_seq=81 ttl=47 time=39.662 ms\\n', '64 bytes from 172.217.21.195: icmp_seq=82 ttl=47 time=35.237 ms\\n', '64 bytes from 172.217.21.195: icmp_seq=83 ttl=47 time=34.227 ms\\n', '64 bytes from 172.217.21.195: icmp_seq=84 ttl=47 time=34.021 ms\\n', '64 bytes from 172.217.21.195: icmp_seq=85 ttl=47 time=43.557 ms\\n', '64 bytes from 172.217.21.195: icmp_seq=86 ttl=47 time=33.870 ms\\n', '64 bytes from 172.217.21.195: icmp_seq=87 ttl=47 time=34.267 ms\\n', '64 bytes from 172.217.21.195: icmp_seq=88 ttl=47 time=34.123 ms\\n', '64 bytes from 172.217.21.195: icmp_seq=89 ttl=47 time=34.663 ms\\n', '64 bytes from 172.217.21.195: icmp_seq=90 ttl=47 time=34.962 ms\\n', '64 bytes from 172.217.21.195: icmp_seq=91 ttl=47 time=34.899 ms\\n', '64 bytes from 172.217.21.195: icmp_seq=92 ttl=47 time=35.308 ms\\n', '64 bytes from 172.217.21.195: icmp_seq=93 ttl=47 time=35.054 ms\\n', '64 bytes from 172.217.21.195: icmp_seq=94 ttl=47 time=33.293 ms\\n', '64 bytes from 172.217.21.195: icmp_seq=95 ttl=47 time=34.120 ms\\n', '64 bytes from 172.217.21.195: icmp_seq=96 ttl=47 time=39.447 ms\\n', '64 bytes from 172.217.21.195: icmp_seq=97 ttl=47 time=33.861 ms\\n', '64 bytes from 172.217.21.195: icmp_seq=98 ttl=47 time=33.342 ms\\n', '64 bytes from 172.217.21.195: icmp_seq=99 ttl=47 time=40.735 ms\\n', '\\n', '--- google.co.uk ping statistics ---\\n', '100 packets transmitted, 100 packets received, 0.0% packet loss\\n', 'round-trip min/avg/max/stddev = 33.159/39.191/131.058/12.404 ms\\n']\n"
          ],
          "name": "stdout"
        }
      ]
    },
    {
      "metadata": {
        "id": "mTxZuAzqnQeN",
        "colab_type": "code",
        "colab": {}
      },
      "cell_type": "code",
      "source": [
        "def _clean_data_(current_list):\n",
        "\n",
        "    clean_data = []\n",
        "    time = []\n",
        "\n",
        "    for i in current_list:\n",
        "        if \"time=\" in i:\n",
        "            clean_data.append(i.split())\n",
        "\n",
        "    for i in clean_data:\n",
        "        time.append(float(i[6].replace(\"time=\", \"\")))\n",
        "\n",
        "    return time"
      ],
      "execution_count": 0,
      "outputs": []
    },
    {
      "metadata": {
        "id": "9_ticm2Q9pLH",
        "colab_type": "code",
        "outputId": "2dd3cb7c-c9c7-405f-85db-8c54292b05af",
        "colab": {
          "base_uri": "https://localhost:8080/",
          "height": 122
        }
      },
      "cell_type": "code",
      "source": [
        "for i in listFiles:\n",
        "    vars()[i] = _clean_data_(vars()[\"uc_\"+i])\n",
        "    print(vars()[i])"
      ],
      "execution_count": 12,
      "outputs": [
        {
          "output_type": "stream",
          "text": [
            "[45.052, 33.585, 39.092, 35.379, 35.771, 51.089, 72.135, 37.525, 38.065, 88.791, 49.974, 40.156, 35.104, 40.749, 39.144, 45.839, 33.987, 43.158, 36.069, 40.804, 71.97, 35.099, 38.436, 40.059, 35.824, 33.857, 44.636, 37.169, 39.227, 33.492, 37.999, 33.426, 36.153, 34.59, 33.844, 33.608, 34.931, 47.288, 37.274, 43.071, 44.886, 34.594, 36.425, 35.092, 51.944, 44.163, 37.135, 50.459, 33.713, 33.902, 42.943, 33.411, 34.061, 36.909, 36.835, 38.511, 34.388, 40.324, 39.499, 47.142, 38.913, 81.164, 46.11, 130.464, 34.768, 37.98, 33.385, 39.261, 34.662, 35.449, 39.788, 33.807, 44.52, 39.519, 35.577, 36.112, 60.165, 38.337, 34.666, 56.915, 77.589, 38.686, 34.187, 34.35, 34.337, 38.222, 34.114, 35.173, 37.793, 40.211, 44.632, 34.236, 39.513, 44.759, 34.793, 36.331, 34.48, 33.928, 36.521, 34.521]\n",
            "[65.572, 36.777, 42.065, 33.758, 33.815, 33.906, 35.62, 35.918, 33.697, 33.865, 41.31, 39.4, 39.227, 34.088, 50.113, 37.65, 34.02, 34.763, 34.234, 39.115, 34.887, 52.973, 34.664, 38.863, 33.971, 33.923, 33.349, 41.466, 35.226, 36.627, 35.386, 33.994, 33.697, 46.214, 35.066, 42.978, 37.414, 35.488, 55.802, 34.524, 33.83, 43.763, 34.753, 66.327, 33.875, 36.78, 35.464, 34.826, 44.25, 35.972, 34.37, 35.876, 37.375, 34.027, 45.528, 36.66, 35.603, 50.796, 33.832, 35.286, 48.618, 39.319, 33.611, 33.581, 39.761, 37.05, 36.865, 42.99, 37.469, 34.828, 61.303, 33.447, 33.691, 35.628, 36.172, 35.906, 33.071, 39.929, 36.862, 33.516, 33.982, 37.291, 40.171, 34.759, 35.446, 34.909, 33.896, 46.063, 33.727, 35.189, 75.768, 35.346, 161.899, 44.203, 35.195, 100.765, 41.357, 49.206, 121.21, 41.609]\n",
            "[35.11, 34.28, 47.308, 34.064, 33.449, 33.809, 34.719, 41.386, 36.289, 34.03, 35.987, 36.663, 34.111, 34.173, 34.864, 33.685, 35.461, 38.349, 40.493, 34.849, 33.237, 40.036, 35.01, 34.488, 33.583, 36.868, 37.85, 34.772, 36.843, 33.529, 41.004, 33.613, 37.043, 39.088, 34.401, 34.009, 33.302, 34.467, 33.422, 34.899, 33.615, 34.838, 33.306, 33.522, 33.513, 33.287, 34.338, 33.414, 33.578, 33.623, 35.822, 33.827, 36.4, 33.591, 40.369, 37.055, 34.568, 33.377, 33.419, 35.625, 38.719, 42.646, 35.923, 36.956, 33.436, 33.257, 39.778, 35.601, 33.274, 33.299, 33.437, 33.455, 33.897, 33.179, 47.459, 37.379, 34.205, 35.216, 34.475, 34.747, 36.799, 33.541, 33.749, 38.049, 33.374, 33.37, 37.417, 42.058, 33.958, 36.086, 36.076, 33.819, 34.862, 33.401, 36.078, 34.308, 43.14, 33.873, 34.119]\n",
            "[41.503, 35.477, 36.613, 35.077, 35.024, 35.04, 58.2, 33.824, 56.815, 34.217, 34.299, 33.718, 37.57, 35.899, 58.313, 145.317, 33.74, 67.267, 36.164, 44.817, 40.377, 34.46, 59.276, 62.547, 36.401, 35.38, 35.599, 76.264, 38.56, 44.979, 38.901, 33.832, 34.114, 34.9, 34.759, 38.567, 45.687, 52.453, 37.461, 35.5, 44.847, 35.508, 33.796, 35.675, 33.287, 41.013, 35.684, 39.802, 40.047, 55.501, 33.959, 34.128, 34.648, 51.12, 34.209, 34.256, 50.033, 33.567, 37.565, 60.096, 34.429, 50.726, 64.8, 61.94, 34.955, 73.554, 36.528, 36.748, 44.186, 118.017, 40.177, 46.591, 35.039, 42.608, 36.411, 50.468, 76.796, 41.198, 53.678, 53.12, 36.293, 34.991, 46.914, 34.393, 40.716, 54.271, 39.75, 39.722, 40.553, 51.799, 35.072, 34.096, 38.444, 35.559, 59.009, 91.978, 38.565, 56.026, 34.656]\n",
            "[33.416, 36.307, 46.344, 41.392, 35.828, 33.276, 34.443, 33.967, 34.989, 36.957, 33.925, 46.769, 68.545, 33.595, 39.628, 34.322, 34.121, 41.858, 36.702, 37.876, 33.87, 39.182, 42.865, 46.9, 38.255, 33.159, 34.0, 43.309, 35.196, 33.445, 33.874, 49.084, 34.57, 33.973, 40.802, 35.954, 44.24, 39.928, 38.379, 33.562, 34.412, 44.443, 44.038, 34.401, 53.818, 33.714, 36.757, 33.551, 48.652, 33.561, 36.285, 40.887, 41.75, 34.122, 38.966, 33.286, 35.74, 49.326, 35.877, 33.363, 37.591, 35.021, 33.88, 35.817, 131.058, 33.188, 45.101, 39.145, 34.67, 33.388, 34.642, 40.063, 34.235, 100.517, 35.277, 36.498, 35.316, 42.899, 33.584, 35.107, 37.666, 39.662, 35.237, 34.227, 34.021, 43.557, 33.87, 34.267, 34.123, 34.663, 34.962, 34.899, 35.308, 35.054, 33.293, 34.12, 39.447, 33.861, 33.342, 40.735]\n"
          ],
          "name": "stdout"
        }
      ]
    },
    {
      "metadata": {
        "id": "8w5uIsRVYLQs",
        "colab_type": "code",
        "colab": {}
      },
      "cell_type": "code",
      "source": [
        "def _extend_data_(list_extend):\n",
        "\n",
        "    while len(list_extend) < 100:\n",
        "        list_extend.append(0)\n",
        "\n",
        "    return list_extend"
      ],
      "execution_count": 0,
      "outputs": []
    },
    {
      "metadata": {
        "id": "MO23rF9N96nX",
        "colab_type": "code",
        "outputId": "c5d08e6f-27c9-4d47-8663-1af6d5febaa3",
        "colab": {
          "base_uri": "https://localhost:8080/",
          "height": 122
        }
      },
      "cell_type": "code",
      "source": [
        "for i in listFiles:\n",
        "    vars()[i] = _extend_data_(vars()[i])\n",
        "    print(vars()[i])"
      ],
      "execution_count": 13,
      "outputs": [
        {
          "output_type": "stream",
          "text": [
            "[45.052, 33.585, 39.092, 35.379, 35.771, 51.089, 72.135, 37.525, 38.065, 88.791, 49.974, 40.156, 35.104, 40.749, 39.144, 45.839, 33.987, 43.158, 36.069, 40.804, 71.97, 35.099, 38.436, 40.059, 35.824, 33.857, 44.636, 37.169, 39.227, 33.492, 37.999, 33.426, 36.153, 34.59, 33.844, 33.608, 34.931, 47.288, 37.274, 43.071, 44.886, 34.594, 36.425, 35.092, 51.944, 44.163, 37.135, 50.459, 33.713, 33.902, 42.943, 33.411, 34.061, 36.909, 36.835, 38.511, 34.388, 40.324, 39.499, 47.142, 38.913, 81.164, 46.11, 130.464, 34.768, 37.98, 33.385, 39.261, 34.662, 35.449, 39.788, 33.807, 44.52, 39.519, 35.577, 36.112, 60.165, 38.337, 34.666, 56.915, 77.589, 38.686, 34.187, 34.35, 34.337, 38.222, 34.114, 35.173, 37.793, 40.211, 44.632, 34.236, 39.513, 44.759, 34.793, 36.331, 34.48, 33.928, 36.521, 34.521]\n",
            "[65.572, 36.777, 42.065, 33.758, 33.815, 33.906, 35.62, 35.918, 33.697, 33.865, 41.31, 39.4, 39.227, 34.088, 50.113, 37.65, 34.02, 34.763, 34.234, 39.115, 34.887, 52.973, 34.664, 38.863, 33.971, 33.923, 33.349, 41.466, 35.226, 36.627, 35.386, 33.994, 33.697, 46.214, 35.066, 42.978, 37.414, 35.488, 55.802, 34.524, 33.83, 43.763, 34.753, 66.327, 33.875, 36.78, 35.464, 34.826, 44.25, 35.972, 34.37, 35.876, 37.375, 34.027, 45.528, 36.66, 35.603, 50.796, 33.832, 35.286, 48.618, 39.319, 33.611, 33.581, 39.761, 37.05, 36.865, 42.99, 37.469, 34.828, 61.303, 33.447, 33.691, 35.628, 36.172, 35.906, 33.071, 39.929, 36.862, 33.516, 33.982, 37.291, 40.171, 34.759, 35.446, 34.909, 33.896, 46.063, 33.727, 35.189, 75.768, 35.346, 161.899, 44.203, 35.195, 100.765, 41.357, 49.206, 121.21, 41.609]\n",
            "[35.11, 34.28, 47.308, 34.064, 33.449, 33.809, 34.719, 41.386, 36.289, 34.03, 35.987, 36.663, 34.111, 34.173, 34.864, 33.685, 35.461, 38.349, 40.493, 34.849, 33.237, 40.036, 35.01, 34.488, 33.583, 36.868, 37.85, 34.772, 36.843, 33.529, 41.004, 33.613, 37.043, 39.088, 34.401, 34.009, 33.302, 34.467, 33.422, 34.899, 33.615, 34.838, 33.306, 33.522, 33.513, 33.287, 34.338, 33.414, 33.578, 33.623, 35.822, 33.827, 36.4, 33.591, 40.369, 37.055, 34.568, 33.377, 33.419, 35.625, 38.719, 42.646, 35.923, 36.956, 33.436, 33.257, 39.778, 35.601, 33.274, 33.299, 33.437, 33.455, 33.897, 33.179, 47.459, 37.379, 34.205, 35.216, 34.475, 34.747, 36.799, 33.541, 33.749, 38.049, 33.374, 33.37, 37.417, 42.058, 33.958, 36.086, 36.076, 33.819, 34.862, 33.401, 36.078, 34.308, 43.14, 33.873, 34.119, 0]\n",
            "[41.503, 35.477, 36.613, 35.077, 35.024, 35.04, 58.2, 33.824, 56.815, 34.217, 34.299, 33.718, 37.57, 35.899, 58.313, 145.317, 33.74, 67.267, 36.164, 44.817, 40.377, 34.46, 59.276, 62.547, 36.401, 35.38, 35.599, 76.264, 38.56, 44.979, 38.901, 33.832, 34.114, 34.9, 34.759, 38.567, 45.687, 52.453, 37.461, 35.5, 44.847, 35.508, 33.796, 35.675, 33.287, 41.013, 35.684, 39.802, 40.047, 55.501, 33.959, 34.128, 34.648, 51.12, 34.209, 34.256, 50.033, 33.567, 37.565, 60.096, 34.429, 50.726, 64.8, 61.94, 34.955, 73.554, 36.528, 36.748, 44.186, 118.017, 40.177, 46.591, 35.039, 42.608, 36.411, 50.468, 76.796, 41.198, 53.678, 53.12, 36.293, 34.991, 46.914, 34.393, 40.716, 54.271, 39.75, 39.722, 40.553, 51.799, 35.072, 34.096, 38.444, 35.559, 59.009, 91.978, 38.565, 56.026, 34.656, 0]\n",
            "[33.416, 36.307, 46.344, 41.392, 35.828, 33.276, 34.443, 33.967, 34.989, 36.957, 33.925, 46.769, 68.545, 33.595, 39.628, 34.322, 34.121, 41.858, 36.702, 37.876, 33.87, 39.182, 42.865, 46.9, 38.255, 33.159, 34.0, 43.309, 35.196, 33.445, 33.874, 49.084, 34.57, 33.973, 40.802, 35.954, 44.24, 39.928, 38.379, 33.562, 34.412, 44.443, 44.038, 34.401, 53.818, 33.714, 36.757, 33.551, 48.652, 33.561, 36.285, 40.887, 41.75, 34.122, 38.966, 33.286, 35.74, 49.326, 35.877, 33.363, 37.591, 35.021, 33.88, 35.817, 131.058, 33.188, 45.101, 39.145, 34.67, 33.388, 34.642, 40.063, 34.235, 100.517, 35.277, 36.498, 35.316, 42.899, 33.584, 35.107, 37.666, 39.662, 35.237, 34.227, 34.021, 43.557, 33.87, 34.267, 34.123, 34.663, 34.962, 34.899, 35.308, 35.054, 33.293, 34.12, 39.447, 33.861, 33.342, 40.735]\n"
          ],
          "name": "stdout"
        }
      ]
    },
    {
      "metadata": {
        "id": "8QZUEcea9gHp",
        "colab_type": "code",
        "colab": {}
      },
      "cell_type": "code",
      "source": [
        "d = {}"
      ],
      "execution_count": 0,
      "outputs": []
    },
    {
      "metadata": {
        "id": "hCx5-Blk9_IQ",
        "colab_type": "code",
        "outputId": "80e79c24-06dc-41d2-8379-e5609be6768d",
        "colab": {
          "base_uri": "https://localhost:8080/",
          "height": 1969
        }
      },
      "cell_type": "code",
      "source": [
        "for i in listFiles:\n",
        "    d.update({i : vars()[i]})\n",
        "\n",
        "df = pd.DataFrame(d)\n",
        "df"
      ],
      "execution_count": 14,
      "outputs": [
        {
          "output_type": "execute_result",
          "data": {
            "text/html": [
              "<div>\n",
              "<style scoped>\n",
              "    .dataframe tbody tr th:only-of-type {\n",
              "        vertical-align: middle;\n",
              "    }\n",
              "\n",
              "    .dataframe tbody tr th {\n",
              "        vertical-align: top;\n",
              "    }\n",
              "\n",
              "    .dataframe thead th {\n",
              "        text-align: right;\n",
              "    }\n",
              "</style>\n",
              "<table border=\"1\" class=\"dataframe\">\n",
              "  <thead>\n",
              "    <tr style=\"text-align: right;\">\n",
              "      <th></th>\n",
              "      <th>google_in</th>\n",
              "      <th>google_mx</th>\n",
              "      <th>google_usa</th>\n",
              "      <th>google_ie</th>\n",
              "      <th>google_uk</th>\n",
              "    </tr>\n",
              "  </thead>\n",
              "  <tbody>\n",
              "    <tr>\n",
              "      <th>0</th>\n",
              "      <td>45.052</td>\n",
              "      <td>65.572</td>\n",
              "      <td>35.110</td>\n",
              "      <td>41.503</td>\n",
              "      <td>33.416</td>\n",
              "    </tr>\n",
              "    <tr>\n",
              "      <th>1</th>\n",
              "      <td>33.585</td>\n",
              "      <td>36.777</td>\n",
              "      <td>34.280</td>\n",
              "      <td>35.477</td>\n",
              "      <td>36.307</td>\n",
              "    </tr>\n",
              "    <tr>\n",
              "      <th>2</th>\n",
              "      <td>39.092</td>\n",
              "      <td>42.065</td>\n",
              "      <td>47.308</td>\n",
              "      <td>36.613</td>\n",
              "      <td>46.344</td>\n",
              "    </tr>\n",
              "    <tr>\n",
              "      <th>3</th>\n",
              "      <td>35.379</td>\n",
              "      <td>33.758</td>\n",
              "      <td>34.064</td>\n",
              "      <td>35.077</td>\n",
              "      <td>41.392</td>\n",
              "    </tr>\n",
              "    <tr>\n",
              "      <th>4</th>\n",
              "      <td>35.771</td>\n",
              "      <td>33.815</td>\n",
              "      <td>33.449</td>\n",
              "      <td>35.024</td>\n",
              "      <td>35.828</td>\n",
              "    </tr>\n",
              "    <tr>\n",
              "      <th>5</th>\n",
              "      <td>51.089</td>\n",
              "      <td>33.906</td>\n",
              "      <td>33.809</td>\n",
              "      <td>35.040</td>\n",
              "      <td>33.276</td>\n",
              "    </tr>\n",
              "    <tr>\n",
              "      <th>6</th>\n",
              "      <td>72.135</td>\n",
              "      <td>35.620</td>\n",
              "      <td>34.719</td>\n",
              "      <td>58.200</td>\n",
              "      <td>34.443</td>\n",
              "    </tr>\n",
              "    <tr>\n",
              "      <th>7</th>\n",
              "      <td>37.525</td>\n",
              "      <td>35.918</td>\n",
              "      <td>41.386</td>\n",
              "      <td>33.824</td>\n",
              "      <td>33.967</td>\n",
              "    </tr>\n",
              "    <tr>\n",
              "      <th>8</th>\n",
              "      <td>38.065</td>\n",
              "      <td>33.697</td>\n",
              "      <td>36.289</td>\n",
              "      <td>56.815</td>\n",
              "      <td>34.989</td>\n",
              "    </tr>\n",
              "    <tr>\n",
              "      <th>9</th>\n",
              "      <td>88.791</td>\n",
              "      <td>33.865</td>\n",
              "      <td>34.030</td>\n",
              "      <td>34.217</td>\n",
              "      <td>36.957</td>\n",
              "    </tr>\n",
              "    <tr>\n",
              "      <th>10</th>\n",
              "      <td>49.974</td>\n",
              "      <td>41.310</td>\n",
              "      <td>35.987</td>\n",
              "      <td>34.299</td>\n",
              "      <td>33.925</td>\n",
              "    </tr>\n",
              "    <tr>\n",
              "      <th>11</th>\n",
              "      <td>40.156</td>\n",
              "      <td>39.400</td>\n",
              "      <td>36.663</td>\n",
              "      <td>33.718</td>\n",
              "      <td>46.769</td>\n",
              "    </tr>\n",
              "    <tr>\n",
              "      <th>12</th>\n",
              "      <td>35.104</td>\n",
              "      <td>39.227</td>\n",
              "      <td>34.111</td>\n",
              "      <td>37.570</td>\n",
              "      <td>68.545</td>\n",
              "    </tr>\n",
              "    <tr>\n",
              "      <th>13</th>\n",
              "      <td>40.749</td>\n",
              "      <td>34.088</td>\n",
              "      <td>34.173</td>\n",
              "      <td>35.899</td>\n",
              "      <td>33.595</td>\n",
              "    </tr>\n",
              "    <tr>\n",
              "      <th>14</th>\n",
              "      <td>39.144</td>\n",
              "      <td>50.113</td>\n",
              "      <td>34.864</td>\n",
              "      <td>58.313</td>\n",
              "      <td>39.628</td>\n",
              "    </tr>\n",
              "    <tr>\n",
              "      <th>15</th>\n",
              "      <td>45.839</td>\n",
              "      <td>37.650</td>\n",
              "      <td>33.685</td>\n",
              "      <td>145.317</td>\n",
              "      <td>34.322</td>\n",
              "    </tr>\n",
              "    <tr>\n",
              "      <th>16</th>\n",
              "      <td>33.987</td>\n",
              "      <td>34.020</td>\n",
              "      <td>35.461</td>\n",
              "      <td>33.740</td>\n",
              "      <td>34.121</td>\n",
              "    </tr>\n",
              "    <tr>\n",
              "      <th>17</th>\n",
              "      <td>43.158</td>\n",
              "      <td>34.763</td>\n",
              "      <td>38.349</td>\n",
              "      <td>67.267</td>\n",
              "      <td>41.858</td>\n",
              "    </tr>\n",
              "    <tr>\n",
              "      <th>18</th>\n",
              "      <td>36.069</td>\n",
              "      <td>34.234</td>\n",
              "      <td>40.493</td>\n",
              "      <td>36.164</td>\n",
              "      <td>36.702</td>\n",
              "    </tr>\n",
              "    <tr>\n",
              "      <th>19</th>\n",
              "      <td>40.804</td>\n",
              "      <td>39.115</td>\n",
              "      <td>34.849</td>\n",
              "      <td>44.817</td>\n",
              "      <td>37.876</td>\n",
              "    </tr>\n",
              "    <tr>\n",
              "      <th>20</th>\n",
              "      <td>71.970</td>\n",
              "      <td>34.887</td>\n",
              "      <td>33.237</td>\n",
              "      <td>40.377</td>\n",
              "      <td>33.870</td>\n",
              "    </tr>\n",
              "    <tr>\n",
              "      <th>21</th>\n",
              "      <td>35.099</td>\n",
              "      <td>52.973</td>\n",
              "      <td>40.036</td>\n",
              "      <td>34.460</td>\n",
              "      <td>39.182</td>\n",
              "    </tr>\n",
              "    <tr>\n",
              "      <th>22</th>\n",
              "      <td>38.436</td>\n",
              "      <td>34.664</td>\n",
              "      <td>35.010</td>\n",
              "      <td>59.276</td>\n",
              "      <td>42.865</td>\n",
              "    </tr>\n",
              "    <tr>\n",
              "      <th>23</th>\n",
              "      <td>40.059</td>\n",
              "      <td>38.863</td>\n",
              "      <td>34.488</td>\n",
              "      <td>62.547</td>\n",
              "      <td>46.900</td>\n",
              "    </tr>\n",
              "    <tr>\n",
              "      <th>24</th>\n",
              "      <td>35.824</td>\n",
              "      <td>33.971</td>\n",
              "      <td>33.583</td>\n",
              "      <td>36.401</td>\n",
              "      <td>38.255</td>\n",
              "    </tr>\n",
              "    <tr>\n",
              "      <th>25</th>\n",
              "      <td>33.857</td>\n",
              "      <td>33.923</td>\n",
              "      <td>36.868</td>\n",
              "      <td>35.380</td>\n",
              "      <td>33.159</td>\n",
              "    </tr>\n",
              "    <tr>\n",
              "      <th>26</th>\n",
              "      <td>44.636</td>\n",
              "      <td>33.349</td>\n",
              "      <td>37.850</td>\n",
              "      <td>35.599</td>\n",
              "      <td>34.000</td>\n",
              "    </tr>\n",
              "    <tr>\n",
              "      <th>27</th>\n",
              "      <td>37.169</td>\n",
              "      <td>41.466</td>\n",
              "      <td>34.772</td>\n",
              "      <td>76.264</td>\n",
              "      <td>43.309</td>\n",
              "    </tr>\n",
              "    <tr>\n",
              "      <th>28</th>\n",
              "      <td>39.227</td>\n",
              "      <td>35.226</td>\n",
              "      <td>36.843</td>\n",
              "      <td>38.560</td>\n",
              "      <td>35.196</td>\n",
              "    </tr>\n",
              "    <tr>\n",
              "      <th>29</th>\n",
              "      <td>33.492</td>\n",
              "      <td>36.627</td>\n",
              "      <td>33.529</td>\n",
              "      <td>44.979</td>\n",
              "      <td>33.445</td>\n",
              "    </tr>\n",
              "    <tr>\n",
              "      <th>...</th>\n",
              "      <td>...</td>\n",
              "      <td>...</td>\n",
              "      <td>...</td>\n",
              "      <td>...</td>\n",
              "      <td>...</td>\n",
              "    </tr>\n",
              "    <tr>\n",
              "      <th>70</th>\n",
              "      <td>39.788</td>\n",
              "      <td>61.303</td>\n",
              "      <td>33.437</td>\n",
              "      <td>40.177</td>\n",
              "      <td>34.642</td>\n",
              "    </tr>\n",
              "    <tr>\n",
              "      <th>71</th>\n",
              "      <td>33.807</td>\n",
              "      <td>33.447</td>\n",
              "      <td>33.455</td>\n",
              "      <td>46.591</td>\n",
              "      <td>40.063</td>\n",
              "    </tr>\n",
              "    <tr>\n",
              "      <th>72</th>\n",
              "      <td>44.520</td>\n",
              "      <td>33.691</td>\n",
              "      <td>33.897</td>\n",
              "      <td>35.039</td>\n",
              "      <td>34.235</td>\n",
              "    </tr>\n",
              "    <tr>\n",
              "      <th>73</th>\n",
              "      <td>39.519</td>\n",
              "      <td>35.628</td>\n",
              "      <td>33.179</td>\n",
              "      <td>42.608</td>\n",
              "      <td>100.517</td>\n",
              "    </tr>\n",
              "    <tr>\n",
              "      <th>74</th>\n",
              "      <td>35.577</td>\n",
              "      <td>36.172</td>\n",
              "      <td>47.459</td>\n",
              "      <td>36.411</td>\n",
              "      <td>35.277</td>\n",
              "    </tr>\n",
              "    <tr>\n",
              "      <th>75</th>\n",
              "      <td>36.112</td>\n",
              "      <td>35.906</td>\n",
              "      <td>37.379</td>\n",
              "      <td>50.468</td>\n",
              "      <td>36.498</td>\n",
              "    </tr>\n",
              "    <tr>\n",
              "      <th>76</th>\n",
              "      <td>60.165</td>\n",
              "      <td>33.071</td>\n",
              "      <td>34.205</td>\n",
              "      <td>76.796</td>\n",
              "      <td>35.316</td>\n",
              "    </tr>\n",
              "    <tr>\n",
              "      <th>77</th>\n",
              "      <td>38.337</td>\n",
              "      <td>39.929</td>\n",
              "      <td>35.216</td>\n",
              "      <td>41.198</td>\n",
              "      <td>42.899</td>\n",
              "    </tr>\n",
              "    <tr>\n",
              "      <th>78</th>\n",
              "      <td>34.666</td>\n",
              "      <td>36.862</td>\n",
              "      <td>34.475</td>\n",
              "      <td>53.678</td>\n",
              "      <td>33.584</td>\n",
              "    </tr>\n",
              "    <tr>\n",
              "      <th>79</th>\n",
              "      <td>56.915</td>\n",
              "      <td>33.516</td>\n",
              "      <td>34.747</td>\n",
              "      <td>53.120</td>\n",
              "      <td>35.107</td>\n",
              "    </tr>\n",
              "    <tr>\n",
              "      <th>80</th>\n",
              "      <td>77.589</td>\n",
              "      <td>33.982</td>\n",
              "      <td>36.799</td>\n",
              "      <td>36.293</td>\n",
              "      <td>37.666</td>\n",
              "    </tr>\n",
              "    <tr>\n",
              "      <th>81</th>\n",
              "      <td>38.686</td>\n",
              "      <td>37.291</td>\n",
              "      <td>33.541</td>\n",
              "      <td>34.991</td>\n",
              "      <td>39.662</td>\n",
              "    </tr>\n",
              "    <tr>\n",
              "      <th>82</th>\n",
              "      <td>34.187</td>\n",
              "      <td>40.171</td>\n",
              "      <td>33.749</td>\n",
              "      <td>46.914</td>\n",
              "      <td>35.237</td>\n",
              "    </tr>\n",
              "    <tr>\n",
              "      <th>83</th>\n",
              "      <td>34.350</td>\n",
              "      <td>34.759</td>\n",
              "      <td>38.049</td>\n",
              "      <td>34.393</td>\n",
              "      <td>34.227</td>\n",
              "    </tr>\n",
              "    <tr>\n",
              "      <th>84</th>\n",
              "      <td>34.337</td>\n",
              "      <td>35.446</td>\n",
              "      <td>33.374</td>\n",
              "      <td>40.716</td>\n",
              "      <td>34.021</td>\n",
              "    </tr>\n",
              "    <tr>\n",
              "      <th>85</th>\n",
              "      <td>38.222</td>\n",
              "      <td>34.909</td>\n",
              "      <td>33.370</td>\n",
              "      <td>54.271</td>\n",
              "      <td>43.557</td>\n",
              "    </tr>\n",
              "    <tr>\n",
              "      <th>86</th>\n",
              "      <td>34.114</td>\n",
              "      <td>33.896</td>\n",
              "      <td>37.417</td>\n",
              "      <td>39.750</td>\n",
              "      <td>33.870</td>\n",
              "    </tr>\n",
              "    <tr>\n",
              "      <th>87</th>\n",
              "      <td>35.173</td>\n",
              "      <td>46.063</td>\n",
              "      <td>42.058</td>\n",
              "      <td>39.722</td>\n",
              "      <td>34.267</td>\n",
              "    </tr>\n",
              "    <tr>\n",
              "      <th>88</th>\n",
              "      <td>37.793</td>\n",
              "      <td>33.727</td>\n",
              "      <td>33.958</td>\n",
              "      <td>40.553</td>\n",
              "      <td>34.123</td>\n",
              "    </tr>\n",
              "    <tr>\n",
              "      <th>89</th>\n",
              "      <td>40.211</td>\n",
              "      <td>35.189</td>\n",
              "      <td>36.086</td>\n",
              "      <td>51.799</td>\n",
              "      <td>34.663</td>\n",
              "    </tr>\n",
              "    <tr>\n",
              "      <th>90</th>\n",
              "      <td>44.632</td>\n",
              "      <td>75.768</td>\n",
              "      <td>36.076</td>\n",
              "      <td>35.072</td>\n",
              "      <td>34.962</td>\n",
              "    </tr>\n",
              "    <tr>\n",
              "      <th>91</th>\n",
              "      <td>34.236</td>\n",
              "      <td>35.346</td>\n",
              "      <td>33.819</td>\n",
              "      <td>34.096</td>\n",
              "      <td>34.899</td>\n",
              "    </tr>\n",
              "    <tr>\n",
              "      <th>92</th>\n",
              "      <td>39.513</td>\n",
              "      <td>161.899</td>\n",
              "      <td>34.862</td>\n",
              "      <td>38.444</td>\n",
              "      <td>35.308</td>\n",
              "    </tr>\n",
              "    <tr>\n",
              "      <th>93</th>\n",
              "      <td>44.759</td>\n",
              "      <td>44.203</td>\n",
              "      <td>33.401</td>\n",
              "      <td>35.559</td>\n",
              "      <td>35.054</td>\n",
              "    </tr>\n",
              "    <tr>\n",
              "      <th>94</th>\n",
              "      <td>34.793</td>\n",
              "      <td>35.195</td>\n",
              "      <td>36.078</td>\n",
              "      <td>59.009</td>\n",
              "      <td>33.293</td>\n",
              "    </tr>\n",
              "    <tr>\n",
              "      <th>95</th>\n",
              "      <td>36.331</td>\n",
              "      <td>100.765</td>\n",
              "      <td>34.308</td>\n",
              "      <td>91.978</td>\n",
              "      <td>34.120</td>\n",
              "    </tr>\n",
              "    <tr>\n",
              "      <th>96</th>\n",
              "      <td>34.480</td>\n",
              "      <td>41.357</td>\n",
              "      <td>43.140</td>\n",
              "      <td>38.565</td>\n",
              "      <td>39.447</td>\n",
              "    </tr>\n",
              "    <tr>\n",
              "      <th>97</th>\n",
              "      <td>33.928</td>\n",
              "      <td>49.206</td>\n",
              "      <td>33.873</td>\n",
              "      <td>56.026</td>\n",
              "      <td>33.861</td>\n",
              "    </tr>\n",
              "    <tr>\n",
              "      <th>98</th>\n",
              "      <td>36.521</td>\n",
              "      <td>121.210</td>\n",
              "      <td>34.119</td>\n",
              "      <td>34.656</td>\n",
              "      <td>33.342</td>\n",
              "    </tr>\n",
              "    <tr>\n",
              "      <th>99</th>\n",
              "      <td>34.521</td>\n",
              "      <td>41.609</td>\n",
              "      <td>0.000</td>\n",
              "      <td>0.000</td>\n",
              "      <td>40.735</td>\n",
              "    </tr>\n",
              "  </tbody>\n",
              "</table>\n",
              "<p>100 rows × 5 columns</p>\n",
              "</div>"
            ],
            "text/plain": [
              "    google_in  google_mx  google_usa  google_ie  google_uk\n",
              "0      45.052     65.572      35.110     41.503     33.416\n",
              "1      33.585     36.777      34.280     35.477     36.307\n",
              "2      39.092     42.065      47.308     36.613     46.344\n",
              "3      35.379     33.758      34.064     35.077     41.392\n",
              "4      35.771     33.815      33.449     35.024     35.828\n",
              "5      51.089     33.906      33.809     35.040     33.276\n",
              "6      72.135     35.620      34.719     58.200     34.443\n",
              "7      37.525     35.918      41.386     33.824     33.967\n",
              "8      38.065     33.697      36.289     56.815     34.989\n",
              "9      88.791     33.865      34.030     34.217     36.957\n",
              "10     49.974     41.310      35.987     34.299     33.925\n",
              "11     40.156     39.400      36.663     33.718     46.769\n",
              "12     35.104     39.227      34.111     37.570     68.545\n",
              "13     40.749     34.088      34.173     35.899     33.595\n",
              "14     39.144     50.113      34.864     58.313     39.628\n",
              "15     45.839     37.650      33.685    145.317     34.322\n",
              "16     33.987     34.020      35.461     33.740     34.121\n",
              "17     43.158     34.763      38.349     67.267     41.858\n",
              "18     36.069     34.234      40.493     36.164     36.702\n",
              "19     40.804     39.115      34.849     44.817     37.876\n",
              "20     71.970     34.887      33.237     40.377     33.870\n",
              "21     35.099     52.973      40.036     34.460     39.182\n",
              "22     38.436     34.664      35.010     59.276     42.865\n",
              "23     40.059     38.863      34.488     62.547     46.900\n",
              "24     35.824     33.971      33.583     36.401     38.255\n",
              "25     33.857     33.923      36.868     35.380     33.159\n",
              "26     44.636     33.349      37.850     35.599     34.000\n",
              "27     37.169     41.466      34.772     76.264     43.309\n",
              "28     39.227     35.226      36.843     38.560     35.196\n",
              "29     33.492     36.627      33.529     44.979     33.445\n",
              "..        ...        ...         ...        ...        ...\n",
              "70     39.788     61.303      33.437     40.177     34.642\n",
              "71     33.807     33.447      33.455     46.591     40.063\n",
              "72     44.520     33.691      33.897     35.039     34.235\n",
              "73     39.519     35.628      33.179     42.608    100.517\n",
              "74     35.577     36.172      47.459     36.411     35.277\n",
              "75     36.112     35.906      37.379     50.468     36.498\n",
              "76     60.165     33.071      34.205     76.796     35.316\n",
              "77     38.337     39.929      35.216     41.198     42.899\n",
              "78     34.666     36.862      34.475     53.678     33.584\n",
              "79     56.915     33.516      34.747     53.120     35.107\n",
              "80     77.589     33.982      36.799     36.293     37.666\n",
              "81     38.686     37.291      33.541     34.991     39.662\n",
              "82     34.187     40.171      33.749     46.914     35.237\n",
              "83     34.350     34.759      38.049     34.393     34.227\n",
              "84     34.337     35.446      33.374     40.716     34.021\n",
              "85     38.222     34.909      33.370     54.271     43.557\n",
              "86     34.114     33.896      37.417     39.750     33.870\n",
              "87     35.173     46.063      42.058     39.722     34.267\n",
              "88     37.793     33.727      33.958     40.553     34.123\n",
              "89     40.211     35.189      36.086     51.799     34.663\n",
              "90     44.632     75.768      36.076     35.072     34.962\n",
              "91     34.236     35.346      33.819     34.096     34.899\n",
              "92     39.513    161.899      34.862     38.444     35.308\n",
              "93     44.759     44.203      33.401     35.559     35.054\n",
              "94     34.793     35.195      36.078     59.009     33.293\n",
              "95     36.331    100.765      34.308     91.978     34.120\n",
              "96     34.480     41.357      43.140     38.565     39.447\n",
              "97     33.928     49.206      33.873     56.026     33.861\n",
              "98     36.521    121.210      34.119     34.656     33.342\n",
              "99     34.521     41.609       0.000      0.000     40.735\n",
              "\n",
              "[100 rows x 5 columns]"
            ]
          },
          "metadata": {
            "tags": []
          },
          "execution_count": 14
        }
      ]
    },
    {
      "metadata": {
        "id": "Kg66i_ke-UZS",
        "colab_type": "code",
        "outputId": "c4555a84-1f97-440b-c1b2-7917ff83d220",
        "colab": {
          "base_uri": "https://localhost:8080/",
          "height": 142
        }
      },
      "cell_type": "code",
      "source": [
        "df_means = pd.DataFrame(df.mean(axis=0))\n",
        "df_results = df_means.transpose()\n",
        "df_results = df_results.append(df.std(axis=0), ignore_index=True)\n",
        "df_results = df_results.append(df.var(axis=0), ignore_index=True)\n",
        "df_results.rename({0:'Average',1:'Standard deviation',2:'Variance'}, inplace=True)\n",
        "\n",
        "df_results"
      ],
      "execution_count": 15,
      "outputs": [
        {
          "output_type": "execute_result",
          "data": {
            "text/html": [
              "<div>\n",
              "<style scoped>\n",
              "    .dataframe tbody tr th:only-of-type {\n",
              "        vertical-align: middle;\n",
              "    }\n",
              "\n",
              "    .dataframe tbody tr th {\n",
              "        vertical-align: top;\n",
              "    }\n",
              "\n",
              "    .dataframe thead th {\n",
              "        text-align: right;\n",
              "    }\n",
              "</style>\n",
              "<table border=\"1\" class=\"dataframe\">\n",
              "  <thead>\n",
              "    <tr style=\"text-align: right;\">\n",
              "      <th></th>\n",
              "      <th>google_in</th>\n",
              "      <th>google_mx</th>\n",
              "      <th>google_usa</th>\n",
              "      <th>google_ie</th>\n",
              "      <th>google_uk</th>\n",
              "    </tr>\n",
              "  </thead>\n",
              "  <tbody>\n",
              "    <tr>\n",
              "      <th>Average</th>\n",
              "      <td>41.596950</td>\n",
              "      <td>41.502260</td>\n",
              "      <td>35.240450</td>\n",
              "      <td>44.524280</td>\n",
              "      <td>39.190670</td>\n",
              "    </tr>\n",
              "    <tr>\n",
              "      <th>Standard deviation</th>\n",
              "      <td>13.619088</td>\n",
              "      <td>17.619647</td>\n",
              "      <td>4.586868</td>\n",
              "      <td>17.670520</td>\n",
              "      <td>12.466738</td>\n",
              "    </tr>\n",
              "    <tr>\n",
              "      <th>Variance</th>\n",
              "      <td>185.479561</td>\n",
              "      <td>310.451946</td>\n",
              "      <td>21.039358</td>\n",
              "      <td>312.247262</td>\n",
              "      <td>155.419549</td>\n",
              "    </tr>\n",
              "  </tbody>\n",
              "</table>\n",
              "</div>"
            ],
            "text/plain": [
              "                     google_in   google_mx  google_usa   google_ie   google_uk\n",
              "Average              41.596950   41.502260   35.240450   44.524280   39.190670\n",
              "Standard deviation   13.619088   17.619647    4.586868   17.670520   12.466738\n",
              "Variance            185.479561  310.451946   21.039358  312.247262  155.419549"
            ]
          },
          "metadata": {
            "tags": []
          },
          "execution_count": 15
        }
      ]
    },
    {
      "metadata": {
        "id": "NvDrOIoa-dJk",
        "colab_type": "code",
        "outputId": "1238750c-6132-4d8a-b420-437123f2ed40",
        "colab": {
          "base_uri": "https://localhost:8080/",
          "height": 1294
        }
      },
      "cell_type": "code",
      "source": [
        "for i in listFiles:\n",
        "  df_plt = df[i].plot.hist(x = i)\n",
        "  plt.show()"
      ],
      "execution_count": 16,
      "outputs": [
        {
          "output_type": "display_data",
          "data": {
            "image/png": "[encoded data removed]",
            "text/plain": [
              "<Figure size 432x288 with 1 Axes>"
            ]
          },
          "metadata": {
            "tags": []
          }
        },
        {
          "output_type": "display_data",
          "data": {
            "image/png": "[encoded data removed]",
            "text/plain": [
              "<Figure size 432x288 with 1 Axes>"
            ]
          },
          "metadata": {
            "tags": []
          }
        },
        {
          "output_type": "display_data",
          "data": {
            "image/png": "[encoded data removed]",
            "text/plain": [
              "<Figure size 432x288 with 1 Axes>"
            ]
          },
          "metadata": {
            "tags": []
          }
        },
        {
          "output_type": "display_data",
          "data": {
            "image/png": "[encoded data removed]",
            "text/plain": [
              "<Figure size 432x288 with 1 Axes>"
            ]
          },
          "metadata": {
            "tags": []
          }
        },
        {
          "output_type": "display_data",
          "data": {
            "image/png": "[encoded data removed]",
            "text/plain": [
              "<Figure size 432x288 with 1 Axes>"
            ]
          },
          "metadata": {
            "tags": []
          }
        },
        {
          "output_type": "display_data",
          "data": {
            "text/plain": [
              "<Figure size 432x288 with 0 Axes>"
            ]
          },
          "metadata": {
            "tags": []
          }
        }
      ]
    },
    {
      "metadata": {
        "id": "sz4CH2Ne8nqy",
        "colab_type": "code",
        "colab": {}
      },
      "cell_type": "code",
      "source": [
        "for i in listFiles:\n",
        "    df_plt = df[i].plot(kind='hist', x=i)\n",
        "    plt.savefig(i + '.png')\n",
        "    plt.close()"
      ],
      "execution_count": 0,
      "outputs": []
    },
    {
      "metadata": {
        "id": "RrBmggjHF5VE",
        "colab_type": "code",
        "outputId": "ca721482-7b99-4c27-9670-95dc13a647e4",
        "colab": {
          "base_uri": "https://localhost:8080/",
          "height": 34
        }
      },
      "cell_type": "code",
      "source": [
        "!rm *.png"
      ],
      "execution_count": 0,
      "outputs": [
        {
          "output_type": "stream",
          "text": [
            "rm: cannot remove '*.png': No such file or directory\n"
          ],
          "name": "stdout"
        }
      ]
    },
    {
      "metadata": {
        "id": "9XRtXpgi8qvX",
        "colab_type": "code",
        "colab": {
          "base_uri": "https://localhost:8080/",
          "height": 102
        },
        "outputId": "831c2c2f-d777-40b1-ccf8-cb57898c9e98"
      },
      "cell_type": "code",
      "source": [
        "!git status"
      ],
      "execution_count": 18,
      "outputs": [
        {
          "output_type": "stream",
          "text": [
            "On branch master\n",
            "Your branch is ahead of 'origin/master' by 7 commits.\n",
            "  (use \"git push\" to publish your local commits)\n",
            "\n",
            "nothing to commit, working tree clean\n"
          ],
          "name": "stdout"
        }
      ]
    },
    {
      "metadata": {
        "id": "3qnsBqKtt7_R",
        "colab_type": "code",
        "colab": {
          "base_uri": "https://localhost:8080/",
          "height": 102
        },
        "outputId": "0ea85937-f8f5-46de-e3fa-4bfcd9913286"
      },
      "cell_type": "code",
      "source": [
        ""
      ],
      "execution_count": 20,
      "outputs": [
        {
          "output_type": "stream",
          "text": [
            "On branch master\n",
            "Your branch is ahead of 'origin/master' by 7 commits.\n",
            "  (use \"git push\" to publish your local commits)\n",
            "\n",
            "nothing to commit, working tree clean\n"
          ],
          "name": "stdout"
        }
      ]
    }
  ]
}